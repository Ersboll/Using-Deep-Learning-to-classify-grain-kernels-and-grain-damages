{
 "cells": [
  {
   "cell_type": "code",
   "execution_count": 1,
   "metadata": {},
   "outputs": [],
   "source": [
    "import os\n",
    "import torch\n",
    "import numpy as np\n",
    "import matplotlib.pyplot as plt\n",
    "from dataloader import make_dataloaders\n",
    "from model import ResNet\n",
    "from model import ConvNet\n",
    "from model import SE_ResNet\n",
    "import time"
   ]
  },
  {
   "cell_type": "code",
   "execution_count": null,
   "metadata": {},
   "outputs": [],
   "source": [
    "if torch.cuda.is_available():\n",
    "    print(\"The code will run on GPU.\")\n",
    "else:\n",
    "    print(\"The code will run on CPU.\")\n",
    "device = torch.device('cuda' if torch.cuda.is_available() else 'cpu')"
   ]
  },
  {
   "cell_type": "code",
   "execution_count": null,
   "metadata": {},
   "outputs": [],
   "source": [
    "model_list = os.listdir(\"../Models\")\n",
    "print(model_list)"
   ]
  },
  {
   "cell_type": "code",
   "execution_count": null,
   "metadata": {},
   "outputs": [],
   "source": [
    "#Define hyperparameters and model\n",
    "batch_size = 256 \n",
    "num_epochs = 10\n",
    "model_choice = \"ConvNet\" #\"SE_ResNet\" \"ResNet\" \"ConvNet\"\n",
    "n_features = 64\n",
    "height = 128\n",
    "width = 256\n",
    "droprate = 0.6\n",
    "lr = 0.01\n",
    "num_blocks = 0\n",
    "r = 16\n",
    "    \n",
    "train_loader,test_loader = make_dataloaders(height, width, batch_size)\n",
    "\n",
    "#initialize model and sent to device\n",
    "if model_choice == \"SE_ResNet\":\n",
    "    model = SE_ResNet(n_in=7, n_features=n_features, height=height, width=width, droprate=droprate, num_blocks=num_blocks, r=r).float()\n",
    "    model.to(device)\n",
    "    print(\"SE_ResNet initialized\")\n",
    "    \n",
    "elif model_choice == \"ResNet\":\n",
    "    model = ResNet(n_in=7, n_features=n_features, height=height, width=width, droprate=droprate, num_blocks=num_blocks).float()\n",
    "    model.to(device)\n",
    "    print(\"ResNet initialized\")\n",
    "    \n",
    "elif model_choice == \"ConvNet\":\n",
    "    model = ConvNet(n_in=7, n_features=n_features, height=height, width=width, droprate=droprate).float()\n",
    "    model.to(device)\n",
    "    print(\"ConvNet initialized\")\n",
    "\n",
    "else:\n",
    "    sys.exit(\"The chosen model isn't valid\")"
   ]
  },
  {
   "cell_type": "code",
   "execution_count": null,
   "metadata": {},
   "outputs": [],
   "source": [
    "model.load_state_dict(torch.load(\"../Models/{}\".format(model_list[2]),map_location=device))\n",
    "model.eval()"
   ]
  },
  {
   "cell_type": "code",
   "execution_count": null,
   "metadata": {},
   "outputs": [],
   "source": [
    "for data, target,scaler in test_loader:\n",
    "    data, scaler = data.to(device), scaler.to(device)\n",
    "    with torch.no_grad():\n",
    "        output = model(data, scaler)\n",
    "    predicted = output.argmax(1).cpu()\n",
    "\n",
    "    test_correct += (target == predicted).sum().item()\n",
    "\n",
    "    c = (predicted == target).squeeze()\n",
    "    for i in range(data.shape[0]):\n",
    "        label = target[i]\n",
    "        class_correct[label] += c[i].item()\n",
    "        class_total[label] += 1\n",
    "        \n",
    "for i in range(len(classes)):\n",
    "        print('Accuracy of %5s : %2d %%' % (classes[i], 100 * class_correct[i] / class_total[i]))"
   ]
  },
  {
   "cell_type": "code",
   "execution_count": null,
   "metadata": {},
   "outputs": [],
   "source": [
    "train_loader.sampler.num_samples = 10000"
   ]
  },
  {
   "cell_type": "code",
   "execution_count": null,
   "metadata": {},
   "outputs": [],
   "source": [
    "start = time.time()\n",
    "for data, target,scaler in train_loader:\n",
    "    data, scaler = data.to(device), scaler.to(device)\n",
    "    with torch.no_grad():\n",
    "        output = model(data, scaler)\n",
    "    predicted = output.argmax(1).cpu()\n",
    "end = time.time()\n",
    "diff = (end-start)\n",
    "print(diff)"
   ]
  }
 ],
 "metadata": {
  "kernelspec": {
   "display_name": "Python 3",
   "language": "python",
   "name": "python3"
  },
  "language_info": {
   "codemirror_mode": {
    "name": "ipython",
    "version": 3
   },
   "file_extension": ".py",
   "mimetype": "text/x-python",
   "name": "python",
   "nbconvert_exporter": "python",
   "pygments_lexer": "ipython3",
   "version": "3.6.2"
  }
 },
 "nbformat": 4,
 "nbformat_minor": 4
}
