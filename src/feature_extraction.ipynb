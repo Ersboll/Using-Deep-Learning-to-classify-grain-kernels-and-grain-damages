{
 "cells": [
  {
   "cell_type": "code",
   "execution_count": 37,
   "metadata": {},
   "outputs": [],
   "source": [
    "import os\n",
    "import numpy as np\n",
    "import matplotlib.pyplot as plt\n",
    "import cv2"
   ]
  },
  {
   "cell_type": "code",
   "execution_count": 257,
   "metadata": {},
   "outputs": [
    {
     "data": {
      "text/plain": [
       "'/zhome/27/c/138037/share/src'"
      ]
     },
     "execution_count": 257,
     "metadata": {},
     "output_type": "execute_result"
    }
   ],
   "source": [
    "os.getcwd()"
   ]
  },
  {
   "cell_type": "code",
   "execution_count": 324,
   "metadata": {},
   "outputs": [],
   "source": [
    "train_path = '/zhome/27/c/138037/share/data/train/'\n",
    "test_path = '/zhome/27/c/138037/share/data/test/'\n",
    "classes = {'Barley':0, 'Broken':1, 'Oat':2, 'Rye':3, 'Wheat':4}\n",
    "barley_dim = np.load(os.getcwd() + '/barley_dim.npy')\n",
    "broken_dim = np.load(os.getcwd() + '/broken_dim.npy')\n",
    "oat_dim = np.load(os.getcwd() + '/oat_dim.npy')\n",
    "rye_dim = np.load(os.getcwd() + '/rye_dim.npy')\n",
    "wheat_dim = np.load(os.getcwd() + '/wheat_dim.npy')\n",
    "dim_means = [np.mean(barley_dim[1:], axis=0), np.mean(broken_dim[1:], axis=0), np.mean(oat_dim[1:], axis=0), np.mean(rye_dim[1:], axis=0), np.mean(wheat_dim[1:], axis=0)]\n"
   ]
  },
  {
   "cell_type": "code",
   "execution_count": 328,
   "metadata": {},
   "outputs": [
    {
     "name": "stdout",
     "output_type": "stream",
     "text": [
      "[144.05726138  61.16304308]\n",
      "[78.57508343 56.18020022]\n",
      "[162.74412919  49.79568857]\n",
      "[117.61908878  41.89517224]\n",
      "[110.98363471  58.07111829]\n"
     ]
    }
   ],
   "source": [
    "[print(i) for i in dim_means]\n",
    "height = 117\n",
    "width = 40\n",
    "distance = [np.linalg.norm(np.array([height,width]) - i) for i in dim_means]"
   ]
  },
  {
   "cell_type": "code",
   "execution_count": 329,
   "metadata": {},
   "outputs": [
    {
     "data": {
      "text/plain": [
       "[34.350688284385896,\n",
       " 41.6926023768706,\n",
       " 46.78120210445162,\n",
       " 1.9937273498494459,\n",
       " 19.046311131544844]"
      ]
     },
     "execution_count": 329,
     "metadata": {},
     "output_type": "execute_result"
    }
   ],
   "source": [
    "distance"
   ]
  },
  {
   "cell_type": "code",
   "execution_count": 383,
   "metadata": {},
   "outputs": [],
   "source": [
    "def imgscaler(image, height=256, width=128):\n",
    "    #scale the image up to batch_size and pad remaining\n",
    "    \n",
    "    hscaler = height/image.shape[0]\n",
    "    wscaler = width/image.shape[1]\n",
    "    scaler = np.zeros(2)\n",
    "    if hscaler > wscaler:\n",
    "        image = cv2.resize(image,dsize=(0,0),fx=wscaler,fy=wscaler,interpolation=cv2.INTER_LINEAR)\n",
    "        pad =  height - image.shape[0]\n",
    "        top = int(np.floor(pad * 0.5))\n",
    "        bottom = int(pad-top)\n",
    "        image = np.pad(image, ((top,bottom),(0,0),(0,0)), 'constant', constant_values=(0,0))\n",
    "\n",
    "\n",
    "    elif hscaler < wscaler:\n",
    "        image = cv2.resize(image,dsize=(0,0),fx=hscaler,fy=hscaler,interpolation=cv2.INTER_LINEAR)\n",
    "        pad = width - image.shape[1]\n",
    "        left = int(np.floor(pad * 0.5))\n",
    "        right = int(pad-left)\n",
    "        image = np.pad(image, ((0,0),(left,right),(0,0)), 'constant', constant_values=(0,0))\n",
    "\n",
    "    else:\n",
    "        #Perfect fit no padding needed\n",
    "        image = cv2.resize(image,dsize=(0,0),fx=wscaler,fy=hscaler,interpolation=cv2.INTER_LINEAR)\n",
    "    return image\n",
    "    \n",
    "def masker(image):\n",
    "    #create a simple mask, and make everything else 0\n",
    "    mask = np.zeros((image.shape[0],image.shape[1]))\n",
    "    temp_blue = image[:,:,1].copy()\n",
    "    temp_blue[temp_blue==0] = 1\n",
    "    mask[image[:,:,4]/temp_blue >= 1] = 1\n",
    "    mask[image[:,:,4] >= 40] = 1\n",
    "    mask[:5,:5] = 0\n",
    "    image[mask==0] = 0\n",
    "\n",
    "    #assesing 'straw' outlier in barley class\n",
    "    if image.shape[0] >= 400:\n",
    "        upper_mask = mask[:200]\n",
    "        lower_mask = mask[-200:]\n",
    "\n",
    "        #find half with the kernel\n",
    "        if len(np.flatnonzero(upper_mask)) > len(np.flatnonzero(lower_mask)):\n",
    "            image = image[:200]\n",
    "            mask = mask[:200]\n",
    "        elif len(np.flatnonzero(upper_mask)) < len(np.flatnonzero(lower_mask)):\n",
    "            image = image[-200:]\n",
    "            mask = mask[-200:]\n",
    "    return image, mask\n",
    "\n",
    "def find_diag(image, mask):\n",
    "    '''\n",
    "    return length of diagonal i.e 45degree cut from corner to opposite corner\n",
    "    and coordinates to where the cross-section begins and ends\n",
    "    '''\n",
    "    #Find length of corner to corner vector\n",
    "    len_diag = np.sqrt(mask.shape[0]**2 + mask.shape[1]**2)\n",
    "    eye = np.eye(int(len_diag))\n",
    "    diag = cv2.resize(eye, dsize=(image.shape[1], image.shape[0]), interpolation=cv2.INTER_LANCZOS4)\n",
    "    l = len(np.ma.masked_greater(diag, 0))\n",
    "    mean = np.mean(np.ma.where(diag)) / l\n",
    "\n",
    "    diag[np.ma.masked_greater_equal(diag, mean).mask] = 1\n",
    "    diag[np.ma.masked_less(diag, mean).mask] = 0\n",
    "\n",
    "    diag[mask == 0] = 0\n",
    "    #mask[temp == 1] = 0\n",
    "    return len(temp[temp == 1]), np.min(np.where(temp)[1]), np.max(np.where(mask)[1]), np.min(np.where(mask)[0]), np.max(np.where(mask)[0])\n",
    "\n",
    "def make_dataset(path, dim_means, classes):\n",
    "    '''\n",
    "    init feature extraction. Returns height, width, depth, mean_depth, average-channel-intensity, mask-size, class\n",
    "    '''\n",
    "    #path = path\n",
    "    #dim_means = dim_means\n",
    "    data = np.zeros(13).reshape(1,13)\n",
    "    for category in list(classes.keys()):\n",
    "        file_paths = next(os.walk(path  + category))[2]    \n",
    "        for file in file_paths:\n",
    "            image, mask = masker(np.load(os.path.join(path + category + '/' + file)))\n",
    "            intensity = np.mean(image[mask == 1], axis=0)[:7] / np.array([1, 0.94901961, 0.96078432, 0.99215686, 0.99607843, 1, 0.59215689])\n",
    "            min_x = np.min(np.where(mask)[1])\n",
    "            max_x = np.max(np.where(mask)[1])\n",
    "            min_y = np.min(np.where(mask)[0])\n",
    "            max_y = np.max(np.where(mask)[0])\n",
    "            height = max_y-min_y\n",
    "            width = max_x-min_x\n",
    "            len_diag1, x_begin_diag1, x_end_diag1, y_begin_diag1, y_end_diag1 = find_diag(image, mask)\n",
    "            len_diag2, x_begin_diag2, x_end_diag2, y_begin_diag2, y_end_diag2 = find_diag(np.fliplr(image), np.fliplr(mask))\n",
    "            distance = [np.linalg.norm(np.array([height,width]) - i) for i in dim_means]\n",
    "            size = len(np.where(mask)[0]) / np.mean(len_diag1+len_diag2)#(image.shape[0]*image.shape[1])\n",
    "            depth = np.max(image[:,:,6])\n",
    "            \n",
    "\n",
    "            data = np.append(data, [[height,width,depth,size,intensity[0],intensity[1],intensity[2],intensity[3],intensity[4],intensity[5],intensity[6],np.argmin(distance),classes[category]]], axis=0)\n",
    "    return data\n"
   ]
  },
  {
   "cell_type": "code",
   "execution_count": 384,
   "metadata": {},
   "outputs": [],
   "source": [
    "test = make_dataset(test_path, dim_means, classes)\n",
    "train = make_dataset(train_path, dim_means, classes)\n",
    "np.save('test_featuredata.npy', test)\n",
    "np.save('train_featuredata.npy', train)"
   ]
  },
  {
   "cell_type": "code",
   "execution_count": 380,
   "metadata": {},
   "outputs": [
    {
     "data": {
      "image/png": "[encoded data removed]",
      "text/plain": [
       "<Figure size 432x288 with 1 Axes>"
      ]
     },
     "metadata": {
      "needs_background": "light"
     },
     "output_type": "display_data"
    }
   ],
   "source": [
    "plt.imshow(image[:,:,6])\n",
    "plt.show()\n"
   ]
  },
  {
   "cell_type": "code",
   "execution_count": 375,
   "metadata": {},
   "outputs": [
    {
     "name": "stdout",
     "output_type": "stream",
     "text": [
      "[ 24.26163283  60.17724196  78.07254653  98.9323181  114.7605753\n",
      " 192.46594755  29.27622673]\n",
      "[ 24.26163283  63.40990358  81.25918055  99.71439204 115.21238874\n",
      " 192.46594755  49.43998327]\n"
     ]
    }
   ],
   "source": [
    "print(np.mean(image[mask == 1], axis=0)[:7])\n",
    "\n",
    "print(np.mean(image[mask == 1], axis=0)[:7] / np.array([1, 0.94901961, 0.96078432, 0.99215686, 0.99607843, 1, 0.59215689]))\n"
   ]
  },
  {
   "cell_type": "code",
   "execution_count": 351,
   "metadata": {},
   "outputs": [
    {
     "name": "stdout",
     "output_type": "stream",
     "text": [
      "153\n"
     ]
    },
    {
     "data": {
      "image/png": "[encoded data removed]",
      "text/plain": [
       "<Figure size 432x288 with 1 Axes>"
      ]
     },
     "metadata": {
      "needs_background": "light"
     },
     "output_type": "display_data"
    },
    {
     "data": {
      "image/png": "[encoded data removed]",
      "text/plain": [
       "<Figure size 432x288 with 1 Axes>"
      ]
     },
     "metadata": {
      "needs_background": "light"
     },
     "output_type": "display_data"
    },
    {
     "name": "stdout",
     "output_type": "stream",
     "text": [
      "46\n"
     ]
    }
   ],
   "source": [
    "#Developmenting\n",
    "image, mask = masker(np.load(os.path.join(path + category + '/' + file_paths[0])))\n",
    "temp = np.sqrt(mask.shape[0]**2 + mask.shape[1]**2)\n",
    "print(int(temp))\n",
    "plt.imshow(mask)\n",
    "plt.show()\n",
    "\n",
    "eye = np.eye(int(temp))\n",
    "temp = cv2.resize(eye, dsize=(image.shape[1], image.shape[0]), interpolation=cv2.INTER_LANCZOS4)\n",
    "\n",
    "l = len(np.ma.masked_greater(temp, 0))\n",
    "mean = np.mean(np.ma.where(temp)) / l\n",
    "\n",
    "temp[np.ma.masked_greater_equal(temp, mean).mask] = 1\n",
    "temp[np.ma.masked_less(temp, mean).mask] = 0\n",
    "\n",
    "temp[mask == 0] = 0\n",
    "mask[temp == 1] = 0\n",
    "plt.imshow(mask)\n",
    "plt.show()\n",
    "print(len(temp[temp == 1]))"
   ]
  },
  {
   "cell_type": "code",
   "execution_count": 51,
   "metadata": {},
   "outputs": [],
   "source": [
    "path = os.path.join(cwd, os.listdir(cwd)[10000])\n",
    "image = np.load(path)"
   ]
  },
  {
   "cell_type": "code",
   "execution_count": 95,
   "metadata": {},
   "outputs": [
    {
     "data": {
      "image/png": "[encoded data removed]",
      "text/plain": [
       "<Figure size 432x288 with 1 Axes>"
      ]
     },
     "metadata": {
      "needs_background": "light"
     },
     "output_type": "display_data"
    },
    {
     "name": "stdout",
     "output_type": "stream",
     "text": [
      "(array([  5,   5,   5, ..., 140, 141, 141]), array([36, 37, 38, ..., 39, 32, 33]))\n"
     ]
    }
   ],
   "source": [
    "scaled_image = imgscaler(image, 256,128)\n",
    "scaled_img, scaled_mask = masker(scaled_image)\n",
    "img, mask = masker(image)\n",
    "plt.imshow(img[:,:,[4,2,1]])\n",
    "plt.show()\n",
    "print(np.where(mask == 1))\n",
    "\n",
    "#plt.imshow(scaled_img[:,:,[4,2,1]])\n",
    "#plt.show()\n",
    "#print(np.where(scaled_mask == 1))"
   ]
  },
  {
   "cell_type": "code",
   "execution_count": 323,
   "metadata": {},
   "outputs": [
    {
     "ename": "KeyboardInterrupt",
     "evalue": "",
     "output_type": "error",
     "traceback": [
      "\u001b[0;31m---------------------------------------------------------------------------\u001b[0m",
      "\u001b[0;31mKeyboardInterrupt\u001b[0m                         Traceback (most recent call last)",
      "\u001b[0;32m<ipython-input-323-87781b4ba003>\u001b[0m in \u001b[0;36m<module>\u001b[0;34m\u001b[0m\n\u001b[1;32m     16\u001b[0m         \u001b[0;31m#print(file)\u001b[0m\u001b[0;34m\u001b[0m\u001b[0;34m\u001b[0m\u001b[0;34m\u001b[0m\u001b[0m\n\u001b[1;32m     17\u001b[0m         \u001b[0mimage\u001b[0m\u001b[0;34m,\u001b[0m \u001b[0mmask\u001b[0m \u001b[0;34m=\u001b[0m \u001b[0mmasker\u001b[0m\u001b[0;34m(\u001b[0m\u001b[0mnp\u001b[0m\u001b[0;34m.\u001b[0m\u001b[0mload\u001b[0m\u001b[0;34m(\u001b[0m\u001b[0mos\u001b[0m\u001b[0;34m.\u001b[0m\u001b[0mpath\u001b[0m\u001b[0;34m.\u001b[0m\u001b[0mjoin\u001b[0m\u001b[0;34m(\u001b[0m\u001b[0mpath\u001b[0m \u001b[0;34m+\u001b[0m \u001b[0mcategory\u001b[0m \u001b[0;34m+\u001b[0m \u001b[0;34m'/'\u001b[0m \u001b[0;34m+\u001b[0m \u001b[0mfile\u001b[0m\u001b[0;34m)\u001b[0m\u001b[0;34m)\u001b[0m\u001b[0;34m)\u001b[0m\u001b[0;34m\u001b[0m\u001b[0;34m\u001b[0m\u001b[0m\n\u001b[0;32m---> 18\u001b[0;31m         \u001b[0mmin_x\u001b[0m \u001b[0;34m=\u001b[0m \u001b[0mnp\u001b[0m\u001b[0;34m.\u001b[0m\u001b[0mmin\u001b[0m\u001b[0;34m(\u001b[0m\u001b[0mnp\u001b[0m\u001b[0;34m.\u001b[0m\u001b[0mwhere\u001b[0m\u001b[0;34m(\u001b[0m\u001b[0mmask\u001b[0m\u001b[0;34m)\u001b[0m\u001b[0;34m[\u001b[0m\u001b[0;36m1\u001b[0m\u001b[0;34m]\u001b[0m\u001b[0;34m)\u001b[0m\u001b[0;34m\u001b[0m\u001b[0;34m\u001b[0m\u001b[0m\n\u001b[0m\u001b[1;32m     19\u001b[0m         \u001b[0mmax_x\u001b[0m \u001b[0;34m=\u001b[0m \u001b[0mnp\u001b[0m\u001b[0;34m.\u001b[0m\u001b[0mmax\u001b[0m\u001b[0;34m(\u001b[0m\u001b[0mnp\u001b[0m\u001b[0;34m.\u001b[0m\u001b[0mwhere\u001b[0m\u001b[0;34m(\u001b[0m\u001b[0mmask\u001b[0m\u001b[0;34m)\u001b[0m\u001b[0;34m[\u001b[0m\u001b[0;36m1\u001b[0m\u001b[0;34m]\u001b[0m\u001b[0;34m)\u001b[0m\u001b[0;34m\u001b[0m\u001b[0;34m\u001b[0m\u001b[0m\n\u001b[1;32m     20\u001b[0m         \u001b[0mmin_y\u001b[0m \u001b[0;34m=\u001b[0m \u001b[0mnp\u001b[0m\u001b[0;34m.\u001b[0m\u001b[0mmin\u001b[0m\u001b[0;34m(\u001b[0m\u001b[0mnp\u001b[0m\u001b[0;34m.\u001b[0m\u001b[0mwhere\u001b[0m\u001b[0;34m(\u001b[0m\u001b[0mmask\u001b[0m\u001b[0;34m)\u001b[0m\u001b[0;34m[\u001b[0m\u001b[0;36m0\u001b[0m\u001b[0;34m]\u001b[0m\u001b[0;34m)\u001b[0m\u001b[0;34m\u001b[0m\u001b[0;34m\u001b[0m\u001b[0m\n",
      "\u001b[0;32m<__array_function__ internals>\u001b[0m in \u001b[0;36mwhere\u001b[0;34m(*args, **kwargs)\u001b[0m\n",
      "\u001b[0;31mKeyboardInterrupt\u001b[0m: "
     ]
    }
   ],
   "source": [
    "path = '/zhome/27/c/138037/share/data/train/'\n",
    "classes = {'Barley':0, 'Broken':1, 'Oat':2, 'Rye':3, 'Wheat':4}\n",
    "\n",
    "# init feature extraction dataset samples = 66000, height, width, average-channel-intensity, mask-size, class\n",
    "broken_dim = np.zeros(2).reshape(1,2)\n",
    "barley_dim = np.zeros(2).reshape(1,2)\n",
    "oat_dim = np.zeros(2).reshape(1,2)\n",
    "rye_dim = np.zeros(2).reshape(1,2)\n",
    "wheat_dim = np.zeros(2).reshape(1,2)\n",
    "\n",
    "for category in list(classes.keys()):\n",
    "    #print(category)\n",
    "    file_paths = next(os.walk(path  + category))[2]\n",
    "    i = 0\n",
    "    for file in file_paths:\n",
    "        #print(file)\n",
    "        image, mask = masker(np.load(os.path.join(path + category + '/' + file)))\n",
    "        min_x = np.min(np.where(mask)[1])\n",
    "        max_x = np.max(np.where(mask)[1])\n",
    "        min_y = np.min(np.where(mask)[0])\n",
    "        max_y = np.max(np.where(mask)[0])\n",
    "        height = max_y-min_y\n",
    "        width = max_x-min_x\n",
    "        size = image.shape\n",
    "        \n",
    "        if category == 'Broken':\n",
    "            broken_dim = np.append(broken_dim, [[height,width]], axis=0)\n",
    "            \n",
    "        if category == 'Barley':\n",
    "            barley_dim = np.append(barley_dim, [[height,width]], axis=0)\n",
    "            \n",
    "        if category == 'Oat':\n",
    "            oat_dim = np.append(oat_dim, [[height,width]], axis=0)\n",
    "            \n",
    "        if category == 'Rye':\n",
    "            rye_dim = np.append(rye_dim, [[height,width]], axis=0)\n",
    "            \n",
    "        if category == 'Wheat':\n",
    "            wheat_dim = np.append(wheat_dim, [[height,width]], axis=0)"
   ]
  },
  {
   "cell_type": "code",
   "execution_count": 27,
   "metadata": {},
   "outputs": [
    {
     "name": "stdout",
     "output_type": "stream",
     "text": [
      " Broken \n",
      " [78.55555556 56.17222222] \n",
      " Barley \n",
      " [144.0567037   61.16277778] \n",
      " Oat \n",
      " [162.74748148  49.79607407] \n",
      " Rye \n",
      " [117.61753086  41.89530864] \n",
      " Wheat \n",
      " [110.98353535  58.06888889]\n"
     ]
    }
   ],
   "source": [
    "\n",
    "print(f' Broken \\n {np.mean(broken_dim[1:], axis=0)} \\n Barley \\n {np.mean(barley_dim[1:], axis=0)} \\n Oat \\n {np.mean(oat_dim[1:], axis=0)} \\n Rye \\n {np.mean(rye_dim[1:], axis=0)} \\n Wheat \\n {np.mean(wheat_dim[1:], axis=0)}')\n"
   ]
  },
  {
   "cell_type": "code",
   "execution_count": 33,
   "metadata": {},
   "outputs": [],
   "source": [
    "np.save('broken_dim.npy', broken_dim[1:])\n",
    "np.save('barley_dim.npy', barley_dim[1:])\n",
    "np.save('oat_dim.npy', oat_dim[1:])\n",
    "np.save('rye_dim.npy', rye_dim[1:])\n",
    "np.save('wheat_dim.npy', wheat_dim[1:])"
   ]
  },
  {
   "cell_type": "code",
   "execution_count": 255,
   "metadata": {},
   "outputs": [
    {
     "data": {
      "text/plain": [
       "(13501, 2)"
      ]
     },
     "execution_count": 255,
     "metadata": {},
     "output_type": "execute_result"
    }
   ],
   "source": []
  },
  {
   "cell_type": "code",
   "execution_count": 256,
   "metadata": {},
   "outputs": [
    {
     "data": {
      "text/plain": [
       "(27001, 2)"
      ]
     },
     "execution_count": 256,
     "metadata": {},
     "output_type": "execute_result"
    }
   ],
   "source": []
  },
  {
   "cell_type": "code",
   "execution_count": null,
   "metadata": {},
   "outputs": [],
   "source": []
  }
 ],
 "metadata": {
  "kernelspec": {
   "display_name": "Python 3",
   "language": "python",
   "name": "python3"
  },
  "language_info": {
   "codemirror_mode": {
    "name": "ipython",
    "version": 3
   },
   "file_extension": ".py",
   "mimetype": "text/x-python",
   "name": "python",
   "nbconvert_exporter": "python",
   "pygments_lexer": "ipython3",
   "version": "3.7.7"
  }
 },
 "nbformat": 4,
 "nbformat_minor": 4
}
