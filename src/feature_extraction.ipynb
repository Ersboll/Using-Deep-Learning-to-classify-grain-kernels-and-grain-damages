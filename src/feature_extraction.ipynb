{
 "cells": [
  {
   "cell_type": "code",
   "execution_count": 33,
   "metadata": {},
   "outputs": [],
   "source": [
    "import os\n",
    "import numpy as np\n",
    "import matplotlib.pyplot as plt\n",
    "import cv2"
   ]
  },
  {
   "cell_type": "code",
   "execution_count": 38,
   "metadata": {},
   "outputs": [],
   "source": [
    "def imgscaler(image, height=256, width=128):\n",
    "    #scale the image up to batch_size and pad remaining\n",
    "    \n",
    "    hscaler = height/image.shape[0]\n",
    "    wscaler = width/image.shape[1]\n",
    "    scaler = np.zeros(2)\n",
    "    if hscaler > wscaler:\n",
    "        image = cv2.resize(image,dsize=(0,0),fx=wscaler,fy=wscaler,interpolation=cv2.INTER_LINEAR)\n",
    "        pad =  height - image.shape[0]\n",
    "        top = int(np.floor(pad * 0.5))\n",
    "        bottom = int(pad-top)\n",
    "        image = np.pad(image, ((top,bottom),(0,0),(0,0)), 'constant', constant_values=(0,0))\n",
    "\n",
    "\n",
    "    elif hscaler < wscaler:\n",
    "        image = cv2.resize(image,dsize=(0,0),fx=hscaler,fy=hscaler,interpolation=cv2.INTER_LINEAR)\n",
    "        pad = width - image.shape[1]\n",
    "        left = int(np.floor(pad * 0.5))\n",
    "        right = int(pad-left)\n",
    "        image = np.pad(image, ((0,0),(left,right),(0,0)), 'constant', constant_values=(0,0))\n",
    "\n",
    "    else:\n",
    "        #Perfect fit no padding needed\n",
    "        image = cv2.resize(image,dsize=(0,0),fx=wscaler,fy=hscaler,interpolation=cv2.INTER_LINEAR)\n",
    "    return image\n",
    "    \n",
    "    "
   ]
  },
  {
   "cell_type": "code",
   "execution_count": 39,
   "metadata": {},
   "outputs": [],
   "source": [
    "def masker(img):\n",
    "    #create a simple mask, and make everything else 0\n",
    "    mask = np.zeros((image.shape[0],image.shape[1]))\n",
    "    temp_blue = image[:,:,1].copy()\n",
    "    temp_blue[temp_blue==0] = 1\n",
    "    mask[image[:,:,4]/temp_blue >= 1] = 1\n",
    "    mask[image[:,:,4] >= 40] = 1\n",
    "    mask[:5,:5] = 0\n",
    "    image[mask==0] = 0\n",
    "    return image, mask"
   ]
  },
  {
   "cell_type": "code",
   "execution_count": 137,
   "metadata": {},
   "outputs": [
    {
     "name": "stdout",
     "output_type": "stream",
     "text": [
      "Broken\n"
     ]
    }
   ],
   "source": [
    "path = '/zhome/27/c/138037/eyefoss-project-blobs/'\n",
    "classes = {'Broken':1} #{'Barley':0, 'Broken':1, 'Oat':2, 'Rye':3, 'Wheat':4}\n",
    "\n",
    "# init feature extraction dataset samples = 66000, height, width, average-channel-intensity, mask-size, class\n",
    "data = np.zeros(5).reshape(1,5)\n",
    "for category in list(classes.keys()):\n",
    "    print(category)\n",
    "    file_paths = next(os.walk(path  + category))[2]\n",
    "    i = 0\n",
    "    for file in file_paths:\n",
    "        #print(file)\n",
    "        image, mask = masker(np.load(os.path.join(path + category + '/' + file)))\n",
    "        intensity = np.mean(image[np.ma.where(image)])\n",
    "        size = len(np.where(mask)[0]) / (image.shape[0]*image.shape[1]) \n",
    "        min_x = np.min(np.where(mask)[1])\n",
    "        max_x = np.max(np.where(mask)[1])\n",
    "        min_y = np.min(np.where(mask)[0])\n",
    "        max_y = np.max(np.where(mask)[0])\n",
    "        height = max_y-min_y\n",
    "        width = max_x-min_x\n",
    "        data = np.append(data, [[height,width,intensity,size,classes[category]]], axis=0)\n",
    "        i += 1"
   ]
  },
  {
   "cell_type": "code",
   "execution_count": 138,
   "metadata": {},
   "outputs": [
    {
     "data": {
      "text/plain": [
       "array([[ 68.        ,  47.        ,  79.15218864,   0.4656671 ,\n",
       "          1.        ],\n",
       "       [109.        ,  52.        ,  70.15495048,   0.47047995,\n",
       "          1.        ],\n",
       "       [ 60.        ,  43.        ,  74.02595702,   0.51923077,\n",
       "          1.        ],\n",
       "       [ 91.        ,  66.        ,  68.22838753,   0.53423276,\n",
       "          1.        ],\n",
       "       [143.        ,  54.        ,  96.83610165,   0.47863248,\n",
       "          1.        ]])"
      ]
     },
     "execution_count": 138,
     "metadata": {},
     "output_type": "execute_result"
    }
   ],
   "source": [
    "data[1:6]"
   ]
  },
  {
   "cell_type": "code",
   "execution_count": 108,
   "metadata": {},
   "outputs": [
    {
     "name": "stdout",
     "output_type": "stream",
     "text": [
      "(array([ 5,  6,  7, ..., 73, 73, 73]), array([31, 31, 30, ..., 20, 28, 29]))\n"
     ]
    },
    {
     "data": {
      "image/png": "[encoded data removed]",
      "text/plain": [
       "<Figure size 432x288 with 1 Axes>"
      ]
     },
     "metadata": {
      "needs_background": "light"
     },
     "output_type": "display_data"
    },
    {
     "name": "stdout",
     "output_type": "stream",
     "text": [
      "38.17492394611039\n",
      "79.15218864344762\n"
     ]
    }
   ],
   "source": [
    "print(np.ma.where(mask))\n",
    "#print(sorted(np.ma.where(mask)[1]))\n",
    "plt.imshow(mask)\n",
    "plt.show()\n",
    "print(np.mean(image[:,:,4]))\n",
    "print(np.mean(image[np.ma.where(image)]))"
   ]
  },
  {
   "cell_type": "code",
   "execution_count": null,
   "metadata": {},
   "outputs": [],
   "source": []
  },
  {
   "cell_type": "code",
   "execution_count": 61,
   "metadata": {},
   "outputs": [
    {
     "data": {
      "image/png": "[encoded data removed]",
      "text/plain": [
       "<Figure size 432x288 with 1 Axes>"
      ]
     },
     "metadata": {
      "needs_background": "light"
     },
     "output_type": "display_data"
    },
    {
     "name": "stdout",
     "output_type": "stream",
     "text": [
      "(57.32198611551609, 31.03300518925519)\n"
     ]
    }
   ],
   "source": [
    "#Print images of kernels\n",
    "image, mask = masker(np.load(os.path.join(path + category + '/' + file_paths[0])))\n",
    "plt.imshow(image[:,:,[4,2,1]])\n",
    "plt.imshow(mask)\n",
    "plt.show()\n",
    "len(np.where(mask)[0])\n",
    "len(np.where(mask)[0]) / (image.shape[0]*image.shape[1]) \n",
    "masked = np.ma.where(image)\n",
    "print((np.mean(image[masked]),\n",
    "np.mean(image)))"
   ]
  },
  {
   "cell_type": "code",
   "execution_count": 51,
   "metadata": {},
   "outputs": [],
   "source": [
    "path = os.path.join(cwd, os.listdir(cwd)[10000])\n",
    "image = np.load(path)\n"
   ]
  },
  {
   "cell_type": "code",
   "execution_count": 95,
   "metadata": {},
   "outputs": [
    {
     "data": {
      "image/png": "[encoded data removed]",
      "text/plain": [
       "<Figure size 432x288 with 1 Axes>"
      ]
     },
     "metadata": {
      "needs_background": "light"
     },
     "output_type": "display_data"
    },
    {
     "name": "stdout",
     "output_type": "stream",
     "text": [
      "(array([  5,   5,   5, ..., 140, 141, 141]), array([36, 37, 38, ..., 39, 32, 33]))\n"
     ]
    }
   ],
   "source": [
    "scaled_image = imgscaler(image, 256,128)\n",
    "scaled_img, scaled_mask = masker(scaled_image)\n",
    "img, mask = masker(image)\n",
    "plt.imshow(img[:,:,[4,2,1]])\n",
    "plt.show()\n",
    "print(np.where(mask == 1))\n",
    "\n",
    "#plt.imshow(scaled_img[:,:,[4,2,1]])\n",
    "#plt.show()\n",
    "#print(np.where(scaled_mask == 1))"
   ]
  },
  {
   "cell_type": "code",
   "execution_count": 89,
   "metadata": {},
   "outputs": [
    {
     "name": "stdout",
     "output_type": "stream",
     "text": [
      "6 73\n",
      "5 141\n"
     ]
    }
   ],
   "source": [
    "min_x = np.min(np.where(mask)[1])\n",
    "max_x = np.max(np.where(mask)[1])\n",
    "print(min_x,max_x)\n",
    "min_y = np.min(np.where(mask)[0])\n",
    "max_y = np.max(np.where(mask)[0])\n",
    "print(min_y,max_y)"
   ]
  },
  {
   "cell_type": "code",
   "execution_count": 67,
   "metadata": {},
   "outputs": [
    {
     "name": "stdout",
     "output_type": "stream",
     "text": [
      "coloumns=-93 \n",
      "rows=52 \n",
      "# of pixels removed=-4836\n"
     ]
    }
   ],
   "source": [
    "coloumns = np.where(mask == 1)[0][1] + (mask.shape[0] - np.where(scaled_mask == 1)[0][-1])\n",
    "rows = np.where(mask == 1)[1][1] + (mask.shape[1] - np.where(scaled_mask == 1)[1][-1])\n",
    "print(f'coloumns={coloumns} \\nrows={rows} \\n# of pixels removed={coloumns * rows}')"
   ]
  },
  {
   "cell_type": "code",
   "execution_count": 90,
   "metadata": {},
   "outputs": [
    {
     "data": {
      "text/plain": [
       "(147, 74)"
      ]
     },
     "execution_count": 90,
     "metadata": {},
     "output_type": "execute_result"
    }
   ],
   "source": [
    "mask.shape"
   ]
  },
  {
   "cell_type": "code",
   "execution_count": 93,
   "metadata": {},
   "outputs": [
    {
     "data": {
      "text/plain": [
       "141"
      ]
     },
     "execution_count": 93,
     "metadata": {},
     "output_type": "execute_result"
    }
   ],
   "source": [
    "np.where(mask)[0][-1]"
   ]
  },
  {
   "cell_type": "code",
   "execution_count": 30,
   "metadata": {},
   "outputs": [],
   "source": [
    "import numpy as np\n",
    "from itertools import combinations\n",
    "temp = ['UV','Near IR', '3D']\n",
    "a = combinations(temp, 2)"
   ]
  },
  {
   "cell_type": "code",
   "execution_count": 31,
   "metadata": {},
   "outputs": [
    {
     "data": {
      "text/plain": [
       "['UV', 'UV Near IR', 'UV Near IR 3D', 'Near IR', 'Near IR 3D', '3D']"
      ]
     },
     "execution_count": 31,
     "metadata": {},
     "output_type": "execute_result"
    }
   ],
   "source": [
    "\n",
    "\n",
    "[' '.join(temp[i:j]) for i, j in combinations(range(len(temp) + 1), 2)]"
   ]
  },
  {
   "cell_type": "code",
   "execution_count": null,
   "metadata": {},
   "outputs": [],
   "source": []
  }
 ],
 "metadata": {
  "kernelspec": {
   "display_name": "Python 3",
   "language": "python",
   "name": "python3"
  },
  "language_info": {
   "codemirror_mode": {
    "name": "ipython",
    "version": 3
   },
   "file_extension": ".py",
   "mimetype": "text/x-python",
   "name": "python",
   "nbconvert_exporter": "python",
   "pygments_lexer": "ipython3",
   "version": "3.7.7"
  }
 },
 "nbformat": 4,
 "nbformat_minor": 4
}
