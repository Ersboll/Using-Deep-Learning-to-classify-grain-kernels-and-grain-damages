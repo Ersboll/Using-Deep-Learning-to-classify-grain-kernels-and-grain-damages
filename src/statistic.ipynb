{
 "cells": [
  {
   "cell_type": "code",
   "execution_count": 1,
   "metadata": {},
   "outputs": [
    {
     "name": "stdout",
     "output_type": "stream",
     "text": [
      "/zhome/27/c/138037/share/logs/\n"
     ]
    }
   ],
   "source": [
    "import scipy.stats as stats\n",
    "from scipy.special import comb\n",
    "from statsmodels.stats.contingency_tables import mcnemar\n",
    "import seaborn as sn\n",
    "import matplotlib.pyplot as plt\n",
    "import numpy as np\n",
    "import pandas as pd\n",
    "import os\n",
    "path = '/zhome/27/c/138037/share/logs/'\n",
    "print(path)\n",
    "from pprint import pprint"
   ]
  },
  {
   "cell_type": "code",
   "execution_count": 2,
   "metadata": {},
   "outputs": [],
   "source": [
    "df = pd.read_csv(path + 'hparams_table.csv', header=0, names=['loss_function', 'weighted_sampler', 'test_accuracy'])\n",
    "intensity = pd.read_csv(path + 'intensity.csv', header=0, names=['type', 'seed', 'test_accuracy'])\n",
    "lossfunction = pd.read_csv(path + 'lossfunction.csv', header=0, names=['function', 'seed', 'test_accuracy'])\n",
    "weighted = pd.read_csv(path + 'weighted.csv', header=0, names=['weighted', 'seed', 'test_accuracy'])\n",
    "model = pd.read_csv(path + 'model_choice.csv', header=0, names=['model', 'loss_function', 'seed', 'test_accuracy'])\n",
    "color_5ch = pd.read_csv(path + 'color.csv', header=0, names=['seed', 'color', 'test_accuracy'])\n",
    "color_6ch = pd.read_csv(path + 'color_6ch_and_rgbo.csv', header=0, names=['seed', 'color', 'test_accuracy'])\n",
    "lossfunction_wAlpha = pd.read_csv(path + 'loss_function.csv', header=0, names=['function', 'seed', 'test_accuracy'])\n",
    "true = np.load('/zhome/27/c/138037/foss/src/true_labels.npy')\n",
    "pred_cnn = np.load('/zhome/27/c/138037/foss/src/predictions.npy')\n",
    "pred_res = np.load('/zhome/27/c/138037/foss/src/predictions_resnet.npy')\n",
    "pred_tree = np.load('/zhome/27/c/138037/share/src/predictions_tree.npy')"
   ]
  },
  {
   "cell_type": "code",
   "execution_count": 3,
   "metadata": {},
   "outputs": [],
   "source": [
    "def contingency(x,y):  \n",
    "    YY = len(true[(true == x) & (true == y)])\n",
    "    YN = len(true[(true == x) & (true != y)])\n",
    "    NN = len(true[(true != x) & (true != y)])\n",
    "    NY = len(true[(true != x) & (true == y)])\n",
    "    return np.array([[YY, YN],[NY, NN]])\n",
    "\n",
    "cnn_v_res = contingency(pred_cnn,pred_res)\n",
    "cnn_v_base = contingency(pred_cnn,pred_tree)\n",
    "res_v_base = contingency(pred_res,pred_tree)\n",
    "\n",
    "df1 = pd.DataFrame(cnn_v_res, \n",
    "                  index = ['CNN: True', 'CNN: False'],\n",
    "                  columns = ['ResNet: True', 'ResNet: False'])\n",
    "df2 = pd.DataFrame(cnn_v_base, \n",
    "                  index = ['CNN: True', 'CNN: False'],\n",
    "                  columns = ['Baseline: True', 'Baseline: False'])\n",
    "df3 = pd.DataFrame(res_v_base, \n",
    "                  index = ['ResNet: True', 'ResNet: False'],\n",
    "                  columns = ['Baseline: True', 'Baseline: False'])"
   ]
  },
  {
   "cell_type": "code",
   "execution_count": 4,
   "metadata": {},
   "outputs": [
    {
     "data": {
      "text/plain": [
       "array([[6225,  259],\n",
       "       [  67,   49]])"
      ]
     },
     "execution_count": 4,
     "metadata": {},
     "output_type": "execute_result"
    }
   ],
   "source": [
    "df1.to_numpy()\n"
   ]
  },
  {
   "cell_type": "code",
   "execution_count": 11,
   "metadata": {},
   "outputs": [
    {
     "name": "stdout",
     "output_type": "stream",
     "text": [
      "(562.4950005126864, 2.4092098691164214e-124, 1, array([[6.24920061e+03, 2.34799394e+02],\n",
      "       [1.11799394e+02, 4.20060606e+00]]))\n"
     ]
    },
    {
     "data": {
      "image/png": "[encoded data removed]",
      "text/plain": [
       "<Figure size 432x288 with 1 Axes>"
      ]
     },
     "metadata": {
      "needs_background": "light"
     },
     "output_type": "display_data"
    }
   ],
   "source": [
    "fig = plt.figure()\n",
    "plt.clf()\n",
    "ax = fig.add_subplot(111)\n",
    "ax.set_aspect(1)\n",
    "res = sn.heatmap(df2, annot=True, linewidths=2, vmin=49, vmax=100,robust=True, fmt='.0f', cbar=False)\n",
    "plt.yticks([0.5,1.5],['CNN: True', 'CNN: False'])\n",
    "plt.title('''CNN vs Baseline''')\n",
    "#plt.show()\n",
    "plt.savefig('../img/contingency-cnn-v-base.png')\n",
    "print(stats.chi2_contingency(df2 ,correction=True))"
   ]
  },
  {
   "cell_type": "code",
   "execution_count": 5,
   "metadata": {},
   "outputs": [
    {
     "name": "stdout",
     "output_type": "stream",
     "text": [
      "CNN vs ResNet: pvalue      3.748656609376213e-26\n",
      "statistic   111.90490797546012\n",
      "CNN vs Base: pvalue      1.354587868112004e-14\n",
      "statistic   59.298804780876495\n",
      "ResNet vs Base: pvalue      0.0012345400127623935\n",
      "statistic   10.437923250564333\n"
     ]
    }
   ],
   "source": [
    "\n",
    "'''\n",
    "statistic = (Yes/No - No/Yes)^2 / (Yes/No + No/Yes)\n",
    "'''\n",
    "\n",
    "print(f\"CNN vs ResNet: {mcnemar(df1.to_numpy(), exact=False, correction=True)}\" + '\\n' +\n",
    "      f\"CNN vs Base: {mcnemar(df2.to_numpy(), exact=False, correction=True)}\" + '\\n' +\n",
    "      f\"ResNet vs Base: {mcnemar(df3.to_numpy(), exact=False, correction=True)}\")\n"
   ]
  },
  {
   "cell_type": "code",
   "execution_count": 15,
   "metadata": {},
   "outputs": [],
   "source": [
    "image = intensity[intensity['type'] == 'image'].values[:,2]\n",
    "channel = intensity[intensity['type'] == 'channel'].values[:,2]\n",
    "imagechannel = intensity[intensity['type'] == 'imagechannel'].values[:,2]\n",
    "none = intensity[intensity['type'] == 'none'].values[:,2]\n",
    "convnet_cross = model[(model['model'] == 'ConvNet') & (model['loss_function'] == 'crossentropy')].values[:,3]\n",
    "convnet_focal = model[(model['model'] == 'ConvNet') & (model['loss_function'] == 'focal')].values[:,3]\n",
    "convnetscale_cross = model[(model['model'] == 'ConvNetScale') & (model['loss_function'] == 'crossentropy')].values[:,3]\n",
    "convnetscale_focal = model[(model['model'] == 'ConvNetScale') & (model['loss_function'] == 'focal')].values[:,3]\n",
    "crossentropy = lossfunction[lossfunction['function'] == 'crossentropy'].values[:,2]\n",
    "focal = lossfunction[lossfunction['function'] == 'focal'].values[:,2]\n",
    "weights_on = weighted[weighted['weighted'] == 1.0].values[:,2]\n",
    "weights_off = weighted[weighted['weighted'] == 0.0].values[:,2]\n",
    "uv_5ch = color_5ch[color_5ch['color'] == 0.0].values[:,2]\n",
    "nearir_5ch = color_5ch[color_5ch['color'] == 5.0].values[:,2]\n",
    "threed_5ch = color_5ch[color_5ch['color'] == 6.0].values[:,2]\n",
    "rgbo = color_6ch[color_6ch['color'] == 1.0].values[:,2]\n",
    "# After above three experiments NearIR was added\n",
    "uv_6ch = color_6ch[color_6ch['color'] == 0.0].values[:,2]\n",
    "threed_6ch = color_6ch[color_6ch['color'] == 6.0].values[:,2]\n",
    "focal_alpha = lossfunction_wAlpha[lossfunction_wAlpha['function'] == 'alphafocal'].values[:,2]"
   ]
  },
  {
   "cell_type": "code",
   "execution_count": 20,
   "metadata": {},
   "outputs": [
    {
     "name": "stdout",
     "output_type": "stream",
     "text": [
      "Testing the second forward channel selection\n",
      "UV vs 3D: (-0.3639205513217448, 0.7253475684504338)\n"
     ]
    },
    {
     "data": {
      "image/png": "[encoded data removed]",
      "text/plain": [
       "<Figure size 432x288 with 1 Axes>"
      ]
     },
     "metadata": {
      "needs_background": "light"
     },
     "output_type": "display_data"
    }
   ],
   "source": [
    "# Printint ttest result for the second forward channel selection (With NearIR selected from previous step - test seen below this block)\n",
    "print('Testing the second forward channel selection')\n",
    "print(f\"UV vs 3D: {stats.ttest_ind(uv_6ch, threed_6ch)[:]}\")\n",
    "plt.boxplot([uv_6ch, threed_6ch])\n",
    "plt.show()"
   ]
  },
  {
   "cell_type": "code",
   "execution_count": 76,
   "metadata": {},
   "outputs": [
    {
     "name": "stdout",
     "output_type": "stream",
     "text": [
      "0.8109090924263\n",
      "0.22545453906059265\n",
      "0.5397272765636444\n",
      "0.21438078920511192\n"
     ]
    }
   ],
   "source": [
    "temp = threed_6ch\n",
    "print(f\"{np.max(temp)}\" + '\\n' +\n",
    "f\"{np.min(temp)}\" + '\\n' +\n",
    "f\"{np.mean(temp)}\" + '\\n' +\n",
    "f\"{np.std(temp)}\")"
   ]
  },
  {
   "cell_type": "code",
   "execution_count": 61,
   "metadata": {},
   "outputs": [
    {
     "name": "stdout",
     "output_type": "stream",
     "text": [
      "Testing the first forward channel selection\n",
      "RGBO vs UV: (-1.2337917643445262, 0.25229619122506114)\n",
      "RGBO vs Near IR: (-20.227678952930678, 3.7270951232026615e-08)\n",
      "RGBO vs 3D: (0.4209017020725576, 0.6849064735500245)\n",
      "UV vs Near IR: (-23.2141047135971, 1.2593904213561485e-08)\n",
      "UV vs 3D: (3.0934998818666726, 0.03645024851450993)\n",
      "Near IR vs 3D: (21.325479459296016, 2.459007075472502e-08)\n"
     ]
    },
    {
     "data": {
      "image/png": "[encoded data removed]",
      "text/plain": [
       "<Figure size 432x288 with 1 Axes>"
      ]
     },
     "metadata": {
      "needs_background": "light"
     },
     "output_type": "display_data"
    }
   ],
   "source": [
    "# Printint ttest result for the first forward channel selection\n",
    "print('Testing the first forward channel selection')\n",
    "print(f\"5th channel RGBO vs UV: {stats.ttest_ind(rgbo, uv_5ch)[:]}\" + '\\n' +\n",
    "      f\"5th channel RGBO vs Near IR: {stats.ttest_ind(rgbo, nearir_5ch)[:]}\" + '\\n' +\n",
    "      f\"5th channel RGBO vs 3D: {stats.ttest_ind(rgbo, threed_5ch)[:]}\" + '\\n' +\n",
    "      f\"6th channel UV vs Near IR: {stats.ttest_ind(uv_5ch, nearir_5ch)[:]}\" + '\\n' +\n",
    "     f\"6th channel UV vs 3D: {stats.ttest_rel(uv_5ch, threed_5ch)[:]}\" + '\\n' +\n",
    "     f\"6th channel Near IR vs 3D: {stats.ttest_ind(nearir_5ch, threed_5ch)[:]}\")\n",
    "plt.boxplot([rgbo, uv_5ch, nearir_5ch, threed_5ch, threed_6ch, uv_6ch,])\n",
    "plt.show()"
   ]
  },
  {
   "cell_type": "code",
   "execution_count": 11,
   "metadata": {},
   "outputs": [
    {
     "name": "stdout",
     "output_type": "stream",
     "text": [
      "Image vs Channel: (-5.1292608636758406, 0.0008969023654277734)\n",
      "Image vs Image & Channel: (9.061869224132844, 1.7620473447560064e-05)\n",
      "Image vs None: (-3.8301374913592867, 0.005016935149115001)\n",
      "Channel vs Image & Channel: (26.388615649042105, 4.571137753293593e-09)\n",
      "Channel vs None: (0.7898806372586312, 0.45237205897613875)\n",
      "Image & Channel vs None: (-16.256260415257632, 2.0625932012970363e-07)\n",
      "ConvNet_cross vs ConvNetScale_cross: (-0.21710044616308855, 0.8335644838986451)\n",
      "ConvNet_focal vs ConvNetScale_focal: (1.6143824717634472, 0.1451082246039102)\n",
      "Crossentropy vs Focal: (0.3458894090713, 0.7383459827114425)\n",
      "Crossentropy vs Focal_alpha: (-1.1279128544187784, 0.2920452669057029)\n",
      "Focal vs Focal_alpha: (-1.314960161334959, 0.22496344987358446)\n",
      "Weighted vs Non weighted: (-8.7400629289221, 2.2974824548068628e-05)\n"
     ]
    },
    {
     "data": {
      "image/png": "[encoded data removed]",
      "text/plain": [
       "<Figure size 432x288 with 1 Axes>"
      ]
     },
     "metadata": {
      "needs_background": "light"
     },
     "output_type": "display_data"
    }
   ],
   "source": [
    "print(f\"Image vs Channel: {stats.ttest_ind(image, channel)[:]}\" + '\\n' +\n",
    "     f\"Image vs Image & Channel: {stats.ttest_ind(image, imagechannel)[:]}\" + '\\n' +\n",
    "     f\"Image vs None: {stats.ttest_ind(image, none)[:]}\" + '\\n' +\n",
    "     f\"Channel vs Image & Channel: {stats.ttest_ind(channel, imagechannel)[:]}\" + '\\n' +\n",
    "     f\"Channel vs None: {stats.ttest_ind(channel, none)[:]}\" + '\\n' +\n",
    "     f\"Image & Channel vs None: {stats.ttest_ind(imagechannel, none)[:]}\" + '\\n' +\n",
    "     f\"ConvNet_cross vs ConvNetScale_cross: {stats.ttest_ind(convnet_cross, convnetscale_cross)[:]}\" + '\\n' +\n",
    "     f\"ConvNet_focal vs ConvNetScale_focal: {stats.ttest_ind(convnet_focal, convnetscale_focal)[:]}\" + '\\n' +\n",
    "     f\"Crossentropy vs Focal: {stats.ttest_ind(crossentropy, focal)[:]}\" + '\\n' +\n",
    "     f\"Crossentropy vs Focal_alpha: {stats.ttest_ind(crossentropy, focal_alpha)[:]}\" + '\\n' +\n",
    "     f\"Focal vs Focal_alpha: {stats.ttest_ind(focal, focal_alpha)[:]}\" + '\\n' +\n",
    "     f\"Weighted vs Non weighted: {stats.ttest_ind(weights_on, weights_off)[:]}\")\n",
    "\n",
    "plt.boxplot([image, channel, imagechannel, none, convnet_cross, convnet_focal, convnetscale_cross, convnet_focal, crossentropy, focal, alpha_cross, alpha_focal,weights_on, weights_off])\n",
    "plt.show()"
   ]
  },
  {
   "cell_type": "code",
   "execution_count": 32,
   "metadata": {},
   "outputs": [
    {
     "name": "stdout",
     "output_type": "stream",
     "text": [
      "Comparing test-accuracies of crossentropy and focal: \n",
      "(0.9277272701263428, 0.9175757646560669)\n"
     ]
    }
   ],
   "source": [
    "print(f\"Comparing test-accuracies of crossentropy and focal: \\n{crossentropy.mean(), focal.mean()}\")"
   ]
  },
  {
   "cell_type": "code",
   "execution_count": 25,
   "metadata": {},
   "outputs": [],
   "source": [
    "weighted_focal = df[(df['loss_function'] == 'focal') & (df['weighted_sampler'] == 1.0)].values[:,2]\n",
    "not_weighted_focal = df[(df['loss_function'] == 'focal') & (df['weighted_sampler'] == 0.0)].values[:,2]\n",
    "weighted_cross = df[(df['loss_function'] == 'crossentropy') & (df['weighted_sampler'] == 1.0)].values[:,2]\n",
    "not_weighted_cross = df[(df['loss_function'] == 'crossentropy') & (df['weighted_sampler'] == 0.0)].values[:,2]"
   ]
  },
  {
   "cell_type": "code",
   "execution_count": 26,
   "metadata": {},
   "outputs": [
    {
     "name": "stdout",
     "output_type": "stream",
     "text": [
      "Testing weighted vs non_weighted and focal vs cross loss functions\n",
      "Weighted+Focal vs not weighted+Focal: (-2.3502820508615714, 0.030363032978179195)\n",
      "Weighted+Focal vs weighted+Cross: (-1.0815841310051906, 0.29371540150937575)\n",
      "Weighted+Focal vs not weighted+Cross: (-0.84988791429064, 0.40655028998426257)\n",
      "Not weighted+Focal vs weighted+Cross: (1.7216946038098004, 0.1022651302876761)\n",
      "Not weighted+Focal vs not weighted+Cross: (0.9857113297675522, 0.3373401893543142)\n",
      "Weighted+Cross vs not weighted+Cross: (-0.212458021274299, 0.8341371270178315)\n"
     ]
    },
    {
     "data": {
      "image/png": "[encoded data removed]",
      "text/plain": [
       "<Figure size 432x288 with 1 Axes>"
      ]
     },
     "metadata": {
      "needs_background": "light"
     },
     "output_type": "display_data"
    }
   ],
   "source": [
    "print('Testing weighted vs non_weighted and focal vs cross loss functions')\n",
    "print(f\"Weighted+Focal vs not weighted+Focal: {stats.ttest_ind(weighted_focal, not_weighted_focal)[:]}\" + '\\n' +\n",
    "      f\"Weighted+Focal vs weighted+Cross: {stats.ttest_ind(weighted_focal, weighted_cross)[:]}\" + '\\n' +\n",
    "      f\"Weighted+Focal vs not weighted+Cross: {stats.ttest_ind(weighted_focal, not_weighted_cross)[:]}\" + '\\n' +\n",
    "      f\"Not weighted+Focal vs weighted+Cross: {stats.ttest_ind(not_weighted_focal, weighted_cross)[:]}\" + '\\n' +\n",
    "     f\"Not weighted+Focal vs not weighted+Cross: {stats.ttest_ind(not_weighted_focal, not_weighted_cross)[:]}\" + '\\n' +\n",
    "     f\"Weighted+Cross vs not weighted+Cross: {stats.ttest_ind(weighted_cross, not_weighted_cross)[:]}\")\n",
    "plt.boxplot([weighted_focal, not_weighted_focal, weighted_cross, not_weighted_cross])\n",
    "plt.show()"
   ]
  },
  {
   "cell_type": "code",
   "execution_count": null,
   "metadata": {},
   "outputs": [],
   "source": []
  },
  {
   "cell_type": "code",
   "execution_count": 91,
   "metadata": {},
   "outputs": [
    {
     "data": {
      "image/png": "[encoded data removed]",
      "text/plain": [
       "<Figure size 432x288 with 1 Axes>"
      ]
     },
     "metadata": {
      "needs_background": "light"
     },
     "output_type": "display_data"
    }
   ],
   "source": [
    "plt.boxplot([a,b,c,d]) # ticks=['not_weighted', '','',''])\n",
    "plt.show()"
   ]
  },
  {
   "cell_type": "code",
   "execution_count": null,
   "metadata": {},
   "outputs": [],
   "source": []
  }
 ],
 "metadata": {
  "kernelspec": {
   "display_name": "Python 3",
   "language": "python",
   "name": "python3"
  },
  "language_info": {
   "codemirror_mode": {
    "name": "ipython",
    "version": 3
   },
   "file_extension": ".py",
   "mimetype": "text/x-python",
   "name": "python",
   "nbconvert_exporter": "python",
   "pygments_lexer": "ipython3",
   "version": "3.7.7"
  }
 },
 "nbformat": 4,
 "nbformat_minor": 4
}
