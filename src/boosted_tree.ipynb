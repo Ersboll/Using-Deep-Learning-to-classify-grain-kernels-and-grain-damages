{
 "cells": [
  {
   "cell_type": "code",
   "execution_count": 19,
   "metadata": {},
   "outputs": [],
   "source": [
    "import numpy as np\n",
    "from sklearn.experimental import enable_hist_gradient_boosting\n",
    "from sklearn.ensemble import GradientBoostingClassifier, HistGradientBoostingClassifier\n",
    "from joblib import dump, load\n",
    "\n"
   ]
  },
  {
   "cell_type": "code",
   "execution_count": 23,
   "metadata": {},
   "outputs": [],
   "source": [
    "train = np.load('train_featuredata.npy')\n",
    "test = np.load('test_featuredata.npy')\n",
    "X_train, X_test = train[:,:-1], test[:,:-1]\n",
    "y_train, y_test = train[:,-1], test[:,-1]"
   ]
  },
  {
   "cell_type": "code",
   "execution_count": 25,
   "metadata": {},
   "outputs": [],
   "source": [
    "n_estimators = 100\n",
    "lr = 0.1\n",
    "max_depth = 10\n",
    "seed = 10\n",
    "max_iter = 500"
   ]
  },
  {
   "cell_type": "code",
   "execution_count": 26,
   "metadata": {},
   "outputs": [
    {
     "data": {
      "text/plain": [
       "0.9603090440842297"
      ]
     },
     "execution_count": 26,
     "metadata": {},
     "output_type": "execute_result"
    }
   ],
   "source": [
    "clf = GradientBoostingClassifier(n_estimators=n_estimators, learning_rate=lr, max_depth=max_depth, random_state=seed).fit(X_train, y_train)\n",
    "clf.score(X_test, y_test)"
   ]
  },
  {
   "cell_type": "code",
   "execution_count": 27,
   "metadata": {},
   "outputs": [
    {
     "data": {
      "text/plain": [
       "0.9647023178306318"
      ]
     },
     "execution_count": 27,
     "metadata": {},
     "output_type": "execute_result"
    }
   ],
   "source": [
    "clf_hist = HistGradientBoostingClassifier(max_iter=max_iter).fit(X_train, y_train)\n",
    "clf_hist.score(X_test, y_test)"
   ]
  },
  {
   "cell_type": "code",
   "execution_count": 15,
   "metadata": {},
   "outputs": [
    {
     "name": "stdout",
     "output_type": "stream",
     "text": [
      "Height, Width, Depth, Size, intensity[0]-[6], Nearest cluster mean\n",
      "[0.45547386 0.12977373 0.00148371 0.00331953 0.01079991 0.00657383\n",
      " 0.02573631 0.00135339 0.0664361  0.0069168  0.0029936  0.28913923]\n"
     ]
    }
   ],
   "source": [
    "print('Height, Width, Depth, Size, intensity[0]-[6], Nearest cluster mean') \n",
    "print(clf.feature_importances_)"
   ]
  },
  {
   "cell_type": "code",
   "execution_count": 18,
   "metadata": {},
   "outputs": [],
   "source": [
    "model = str(f'n_est={n_estimators}-lr={lr}-max-depth={max_depth}-seed={seed}')\n",
    "dump(clf, model+'.joblib') \n",
    "clf = load('../Models/' + model + '.joblib')"
   ]
  },
  {
   "cell_type": "code",
   "execution_count": null,
   "metadata": {},
   "outputs": [],
   "source": []
  }
 ],
 "metadata": {
  "kernelspec": {
   "display_name": "Python 3",
   "language": "python",
   "name": "python3"
  },
  "language_info": {
   "codemirror_mode": {
    "name": "ipython",
    "version": 3
   },
   "file_extension": ".py",
   "mimetype": "text/x-python",
   "name": "python",
   "nbconvert_exporter": "python",
   "pygments_lexer": "ipython3",
   "version": "3.7.7"
  }
 },
 "nbformat": 4,
 "nbformat_minor": 4
}
