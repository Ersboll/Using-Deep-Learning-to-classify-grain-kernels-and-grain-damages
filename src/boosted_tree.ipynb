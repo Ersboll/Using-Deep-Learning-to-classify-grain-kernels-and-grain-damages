{
 "cells": [
  {
   "cell_type": "code",
   "execution_count": 105,
   "metadata": {},
   "outputs": [],
   "source": [
    "import numpy as np\n",
    "import os\n",
    "from sklearn.metrics import confusion_matrix, balanced_accuracy_score\n",
    "from sklearn.experimental import enable_hist_gradient_boosting\n",
    "from sklearn.ensemble import GradientBoostingClassifier, HistGradientBoostingClassifier\n",
    "from joblib import dump, load\n",
    "from sklearn.metrics import plot_confusion_matrix\n",
    "import matplotlib.pyplot as plt"
   ]
  },
  {
   "cell_type": "code",
   "execution_count": 12,
   "metadata": {},
   "outputs": [],
   "source": [
    "cwd = '/zhome/27/c/138037/share'\n",
    "#model_list = os.listdir(cwd + '/Models')\n",
    "#print(model_list)"
   ]
  },
  {
   "cell_type": "code",
   "execution_count": 25,
   "metadata": {},
   "outputs": [],
   "source": [
    "train = np.load('train_featuredata.npy')\n",
    "test = np.load('test_featuredata.npy')\n",
    "X_train, X_test = train[:,:-1], test[:,:-1]\n",
    "y_train, y_test = train[:,-1], test[:,-1]"
   ]
  },
  {
   "cell_type": "code",
   "execution_count": 35,
   "metadata": {},
   "outputs": [],
   "source": [
    "n_estimators = 100\n",
    "lr = 0.1\n",
    "max_depth = 1\n",
    "seed = 10\n",
    "max_iter = 500\n",
    "early_stopping = False"
   ]
  },
  {
   "cell_type": "code",
   "execution_count": 21,
   "metadata": {},
   "outputs": [],
   "source": [
    "model = str(f'n_est={n_estimators}-lr={lr}-max-depth={max_depth}-seed={seed}')\n",
    "model_hist = str(f'HistGBDT-max_iter={max_iter}-early_stopping={str(early_stopping)}-seed={seed}')\n",
    "clf = load('../Models/' + model + '.joblib')\n",
    "clf_hist = load('../Models/' + model_hist + '.joblib')"
   ]
  },
  {
   "cell_type": "code",
   "execution_count": 37,
   "metadata": {},
   "outputs": [],
   "source": [
    "clf = GradientBoostingClassifier(n_estimators=n_estimators, learning_rate=lr, max_depth=max_depth, random_state=seed).fit(X_train, y_train)\n",
    "clf_score = clf.score(X_test, y_test)"
   ]
  },
  {
   "cell_type": "code",
   "execution_count": 38,
   "metadata": {},
   "outputs": [],
   "source": [
    "clf_hist = HistGradientBoostingClassifier(max_iter=max_iter, random_state=seed, early_stopping=early_stopping, learning_rate=lr ).fit(X_train, y_train)\n",
    "clf_hist_score = clf_hist.score(X_test, y_test)"
   ]
  },
  {
   "cell_type": "code",
   "execution_count": 81,
   "metadata": {},
   "outputs": [
    {
     "data": {
      "text/plain": [
       "(1,)"
      ]
     },
     "execution_count": 81,
     "metadata": {},
     "output_type": "execute_result"
    }
   ],
   "source": [
    "clf_hist.predict(X_test[6000].reshape(-1,12)).shape"
   ]
  },
  {
   "cell_type": "code",
   "execution_count": 39,
   "metadata": {},
   "outputs": [
    {
     "name": "stdout",
     "output_type": "stream",
     "text": [
      "Height, Width, Depth, Size, intensity[0]-[6], Nearest cluster mean\n",
      "GradientBoostingDecessionTree: \n",
      " score: 0.8821390698379034 \n",
      " feature importance: [0.18308653 0.23332156 0.00290214 0.02553493 0.0387962  0.03152474\n",
      " 0.0308215  0.0108921  0.07289873 0.00063688 0.00903318 0.36055152] \n",
      " \n",
      "HistGradientBoostingDecessionTree: \n",
      " score: 0.9639448568398727\n"
     ]
    }
   ],
   "source": [
    "print('Height, Width, Depth, Size, intensity[0]-[6], Nearest cluster mean') \n",
    "print(f'GradientBoostingDecessionTree: \\n score: {clf_score} \\n feature importance: {clf.feature_importances_} \\n \\nHistGradientBoostingDecessionTree: \\n score: {clf_hist_score}') #\\n feature importance: {clf_hist.feature_importances_}')"
   ]
  },
  {
   "cell_type": "code",
   "execution_count": 90,
   "metadata": {},
   "outputs": [],
   "source": [
    "true = np.arra([(1)])\n",
    "pred = np.empty(1)\n",
    "count = 0\n",
    "\n",
    "for X in X_test:\n",
    "    true = np.append(true, [y_test[count]], axis=0)\n",
    "    pred = np.append(pred, clf_hist.predict(X.reshape(-1,12)), axis=0) \n",
    "    count += 1"
   ]
  },
  {
   "cell_type": "code",
   "execution_count": 99,
   "metadata": {},
   "outputs": [],
   "source": [
    "pred = clf_hist.predict(X_test.reshape(X_test.shape[0],12))"
   ]
  },
  {
   "cell_type": "code",
   "execution_count": null,
   "metadata": {},
   "outputs": [],
   "source": []
  },
  {
   "cell_type": "code",
   "execution_count": 40,
   "metadata": {},
   "outputs": [
    {
     "data": {
      "text/plain": [
       "['../Models/HistGBDT-max_iter=1000-early_stopping=False-seed=10.joblib']"
      ]
     },
     "execution_count": 40,
     "metadata": {},
     "output_type": "execute_result"
    }
   ],
   "source": [
    "dump(clf, '../Models/' + model + '.joblib') \n",
    "dump(clf_hist, '../Models/' + model_hist + '.joblib')"
   ]
  },
  {
   "cell_type": "code",
   "execution_count": 103,
   "metadata": {},
   "outputs": [
    {
     "data": {
      "text/plain": [
       "array([[2916,    0,   50,    5,   30],\n",
       "       [   8,   87,    1,    2,    2],\n",
       "       [  57,    0, 1417,   18,    8],\n",
       "       [   5,    0,   11,  869,   15],\n",
       "       [   8,    2,    1,   15, 1074]])"
      ]
     },
     "execution_count": 103,
     "metadata": {},
     "output_type": "execute_result"
    }
   ],
   "source": [
    "confusion_matrix(y_test, pred)"
   ]
  },
  {
   "cell_type": "code",
   "execution_count": 104,
   "metadata": {},
   "outputs": [
    {
     "data": {
      "image/png": "[encoded data removed]",
      "text/plain": [
       "<Figure size 432x288 with 2 Axes>"
      ]
     },
     "metadata": {
      "needs_background": "light"
     },
     "output_type": "display_data"
    }
   ],
   "source": [
    "plot_confusion_matrix(clf, X_test, y_test)  # doctest: +SKIP\n",
    "plt.show()  # doctest: +SKIP"
   ]
  },
  {
   "cell_type": "code",
   "execution_count": 106,
   "metadata": {},
   "outputs": [
    {
     "data": {
      "text/plain": [
       "0.9456523933099741"
      ]
     },
     "execution_count": 106,
     "metadata": {},
     "output_type": "execute_result"
    }
   ],
   "source": [
    "balanced_accuracy_score(y_test,pred)"
   ]
  },
  {
   "cell_type": "code",
   "execution_count": null,
   "metadata": {},
   "outputs": [],
   "source": []
  }
 ],
 "metadata": {
  "kernelspec": {
   "display_name": "Python 3",
   "language": "python",
   "name": "python3"
  },
  "language_info": {
   "codemirror_mode": {
    "name": "ipython",
    "version": 3
   },
   "file_extension": ".py",
   "mimetype": "text/x-python",
   "name": "python",
   "nbconvert_exporter": "python",
   "pygments_lexer": "ipython3",
   "version": "3.7.7"
  }
 },
 "nbformat": 4,
 "nbformat_minor": 4
}
