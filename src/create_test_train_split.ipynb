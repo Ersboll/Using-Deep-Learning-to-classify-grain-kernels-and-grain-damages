{
 "cells": [
  {
   "cell_type": "code",
   "execution_count": 1,
   "metadata": {},
   "outputs": [],
   "source": [
    "import os\n",
    "import shutil\n",
    "import numpy as np"
   ]
  },
  {
   "cell_type": "code",
   "execution_count": 16,
   "metadata": {},
   "outputs": [],
   "source": [
    "test_files = []\n",
    "classes = os.listdir('../data/train')\n",
    "for c in classes:\n",
    "    temp_path = os.path.join('../data/train', c)\n",
    "    l = os.listdir(temp_path)\n",
    "    for i in range(int(len(l)/10)):\n",
    "        test_files.append(os.path.join(temp_path,l[i]))"
   ]
  },
  {
   "cell_type": "code",
   "execution_count": 18,
   "metadata": {},
   "outputs": [],
   "source": [
    "if len(os.listdir('../data/test/Barley')) == 0:\n",
    "    for image in test_files:\n",
    "        shutil.move(image,os.path.join('../data/test/',os.path.split(os.path.split(image)[0])[1]))"
   ]
  },
  {
   "cell_type": "code",
   "execution_count": 11,
   "metadata": {},
   "outputs": [],
   "source": [
    "# #move everything back\n",
    "# temp = []\n",
    "# for c in classes:\n",
    "#     temp_path = os.path.join('../data/test', c)\n",
    "#     l = os.listdir(temp_path)\n",
    "#     for file in l:\n",
    "#         temp.append(os.path.join(temp_path,file))\n",
    "        \n",
    "# for file in temp:\n",
    "#     shutil.move(file,os.path.join('../data/train/',os.path.split(os.path.split(file)[0])[1]))"
   ]
  }
 ],
 "metadata": {
  "kernelspec": {
   "display_name": "Python 3",
   "language": "python",
   "name": "python3"
  },
  "language_info": {
   "codemirror_mode": {
    "name": "ipython",
    "version": 3
   },
   "file_extension": ".py",
   "mimetype": "text/x-python",
   "name": "python",
   "nbconvert_exporter": "python",
   "pygments_lexer": "ipython3",
   "version": "3.6.2"
  }
 },
 "nbformat": 4,
 "nbformat_minor": 4
}
