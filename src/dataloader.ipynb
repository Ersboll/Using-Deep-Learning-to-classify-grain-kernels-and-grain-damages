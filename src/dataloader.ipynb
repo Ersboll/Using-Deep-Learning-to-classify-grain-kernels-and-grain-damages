{
 "cells": [
  {
   "cell_type": "code",
   "execution_count": 1,
   "metadata": {},
   "outputs": [],
   "source": [
    "import numpy as np\n",
    "import cv2\n",
    "import os\n",
    "import torch\n",
    "import torch.nn as nn\n",
    "import torch.optim as optim\n",
    "from torch.utils.data import DataLoader\n",
    "from torch.utils.data import Datasetimport torch.optim as optim\n",
    "from torch.utils.data import DataLoader\n",
    "from torch.utils.data import Dataset"
   ]
  },
  {
   "cell_type": "code",
   "execution_count": null,
   "metadata": {},
   "outputs": [],
   "source": [
    "def pad(im,height,width):\n",
    "    height_diff = height-im.shape[0]\n",
    "    width_diff = width-im.shape[1]\n",
    "    if height_diff%2 != 0:\n",
    "        top = int(height_diff/2)\n",
    "        bottom = int(height_diff/2)+1\n",
    "    else:\n",
    "        top = int(height_diff/2)\n",
    "        bottom = top\n",
    "    if width_diff%2 != 0:\n",
    "        left = int(width_diff/2)\n",
    "        right = int(width_diff/2)+1\n",
    "    else:\n",
    "        left = int(width_diff/2)\n",
    "        right = left\n",
    "    return cv2.copyMakeBorder(im,top,bottom,left,right,cv2.BORDER_CONSTANT,0)"
   ]
  },
  {
   "cell_type": "code",
   "execution_count": null,
   "metadata": {},
   "outputs": [],
   "source": [
    "class dataset (Dataset):\n",
    "#     def __init__(self,data,target):\n",
    "#         self.data = data\n",
    "#         self.target = target\n",
    "    \n",
    "    def __len__(self):\n",
    "        return len(self.data)\n",
    "    \n",
    "    def __getitem__(self,idx):\n",
    "        if torch.is_tensor(idx):\n",
    "            idx = idx.tolist()\n",
    "        X = self.data[idx]\n",
    "        y = self.target[idx]\n",
    "        \n",
    "        return X,y"
   ]
  },
  {
   "cell_type": "code",
   "execution_count": null,
   "metadata": {},
   "outputs": [],
   "source": []
  }
 ],
 "metadata": {
  "kernelspec": {
   "display_name": "Python 3",
   "language": "python",
   "name": "python3"
  },
  "language_info": {
   "codemirror_mode": {
    "name": "ipython",
    "version": 3
   },
   "file_extension": ".py",
   "mimetype": "text/x-python",
   "name": "python",
   "nbconvert_exporter": "python",
   "pygments_lexer": "ipython3",
   "version": "3.6.2"
  }
 },
 "nbformat": 4,
 "nbformat_minor": 4
}
