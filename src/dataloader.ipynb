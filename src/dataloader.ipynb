{
 "cells": [
  {
   "cell_type": "code",
   "execution_count": 1,
   "metadata": {},
   "outputs": [],
   "source": [
    "import numpy as np\n",
    "import matplotlib.pyplot as plt\n",
    "import torch\n",
    "from torch.utils.data import DataLoader\n",
    "from torch.utils.data import Dataset\n",
    "from torch.utils.data import random_split\n",
    "from torch.utils.data import Sampler\n",
    "from torch.utils.data import WeightedRandomSampler"
   ]
  },
  {
   "cell_type": "markdown",
   "metadata": {},
   "source": [
    "Class 0: Barley\n",
    "\n",
    "Class 1: Oat\n",
    "\n",
    "Class 2: Broken\n",
    "\n",
    "Class 3: Rye\n",
    "\n",
    "Class 4: Wheat"
   ]
  },
  {
   "cell_type": "code",
   "execution_count": null,
   "metadata": {},
   "outputs": [],
   "source": [
    "class dataset (Dataset):\n",
    "    def __init__(self,data,target):\n",
    "        self.data = data\n",
    "        self.target = target\n",
    "    \n",
    "    def __len__(self):\n",
    "        return len(self.data)\n",
    "    \n",
    "    def __getitem__(self,idx):\n",
    "        temp = np.load(self.data[idx])\n",
    "        \n",
    "        X = torch.from_numpy(temp).type(torch.DoubleTensor)\n",
    "        y = torch.tensor(self.target[idx]).type(torch.LongTensor)\n",
    "        \n",
    "        return X,y"
   ]
  },
  {
   "cell_type": "code",
   "execution_count": null,
   "metadata": {},
   "outputs": [],
   "source": [
    "data=np.load(\"data_preprocessed_path.npy\")\n",
    "labels=np.load(\"labels.npy\")"
   ]
  },
  {
   "cell_type": "code",
   "execution_count": null,
   "metadata": {},
   "outputs": [],
   "source": [
    "torch.manual_seed(0)\n",
    "split = random_split(data,(50000,len(data)-50000))\n",
    "\n",
    "data_train = data[split[0].indices]\n",
    "data_test = data[split[1].indices]\n",
    "labels_train = labels[split[0].indices]\n",
    "labels_test = labels[split[1].indices]\n",
    "\n",
    "train_set = dataset(data_train,labels_train)\n",
    "test_set = dataset(data_test,labels_test)\n",
    "\n",
    "batch_size = 512\n",
    "weights = []\n",
    "for label in labels_train:\n",
    "    if label == 0:\n",
    "        weights.append(0.2/len(labels_train[labels_train==0]))\n",
    "    elif label == 1:\n",
    "        weights.append(0.2/len(labels_train[labels_train==1]))\n",
    "    elif label == 2:\n",
    "        weights.append(0.2/len(labels_train[labels_train==2]))\n",
    "    elif label == 3:\n",
    "        weights.append(0.2/len(labels_train[labels_train==3]))\n",
    "    else:\n",
    "        weights.append(0.2/len(labels_train[labels_train==4]))\n",
    "weights = torch.FloatTensor(weights)\n",
    "sampler = WeightedRandomSampler(weights=weights,num_samples=len(train_set),replacement=True)\n",
    "\n",
    "train_loader = DataLoader(train_set, batch_size=batch_size,sampler=sampler,num_workers=0)\n",
    "test_loader = DataLoader(test_set, batch_size=batch_size, shuffle=False,num_workers=0)"
   ]
  },
  {
   "cell_type": "code",
   "execution_count": null,
   "metadata": {},
   "outputs": [],
   "source": [
    "for minibatch_no, (data, target) in enumerate(train_loader):\n",
    "    print(minibatch_no)\n",
    "    print(len(target[target==0])/len(target))\n",
    "    print(len(target[target==1])/len(target))\n",
    "    print(len(target[target==2])/len(target))\n",
    "    print(len(target[target==3])/len(target))\n",
    "    print(len(target[target==4])/len(target))"
   ]
  },
  {
   "cell_type": "code",
   "execution_count": null,
   "metadata": {},
   "outputs": [],
   "source": [
    "class ratio_batching(Sampler):\n",
    "    \n",
    "    def __init__(self,data,target,num_samples):\n",
    "        p = torch.randperm(data.shape[0])\n",
    "        self.data = data[p]\n",
    "        self.target = target[p]\n",
    "        self.num_samples = num_samples\n",
    "        \n",
    "    \n",
    "    def __iter__(self):\n",
    "        \n",
    "        \n",
    "        return \n",
    "        \n",
    "    def __len__(self):\n",
    "        return self.num_samples\n",
    "    \n",
    "def dataloader(data,target,batch_size):\n",
    "    #shuffle data\n",
    "    p = np.random.permutation(data.shape[0])\n",
    "    data = data[p]\n",
    "    target = target[p]\n",
    "    \n",
    "    #\n",
    "    n_mini_batches = np.ceil(len(data)/batch_size)\n",
    "    mini_batches_idx = np.empty((n_mini_batches,batch_size))\n",
    "    n_each = batch_size//5\n",
    "    "
   ]
  }
 ],
 "metadata": {
  "kernelspec": {
   "display_name": "Python 3",
   "language": "python",
   "name": "python3"
  },
  "language_info": {
   "codemirror_mode": {
    "name": "ipython",
    "version": 3
   },
   "file_extension": ".py",
   "mimetype": "text/x-python",
   "name": "python",
   "nbconvert_exporter": "python",
   "pygments_lexer": "ipython3",
   "version": "3.6.2"
  }
 },
 "nbformat": 4,
 "nbformat_minor": 4
}
