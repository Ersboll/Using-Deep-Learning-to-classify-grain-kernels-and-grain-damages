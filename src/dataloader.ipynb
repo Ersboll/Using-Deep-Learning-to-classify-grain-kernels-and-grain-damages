{
 "cells": [
  {
   "cell_type": "code",
   "execution_count": 8,
   "metadata": {},
   "outputs": [],
   "source": [
    "import numpy as np\n",
    "import matplotlib.pyplot as plt\n",
    "import os\n",
    "import glob\n",
    "import torch\n",
    "from torch.utils.data import DataLoader\n",
    "from torch.utils.data import Dataset\n",
    "from torch.utils.data import random_split\n",
    "from torch.utils.data import Sampler\n",
    "from torch.utils.data import WeightedRandomSampler\n",
    "import torchvision.transforms as transforms"
   ]
  },
  {
   "cell_type": "markdown",
   "metadata": {},
   "source": [
    "Class 0: Barley\n",
    "\n",
    "Class 1: Oat\n",
    "\n",
    "Class 2: Broken\n",
    "\n",
    "Class 3: Rye\n",
    "\n",
    "Class 4: Wheat"
   ]
  },
  {
   "cell_type": "code",
   "execution_count": 4,
   "metadata": {},
   "outputs": [],
   "source": [
    "class dataset (Dataset):\n",
    "    def __init__(self,train,transform,data_path='../data'):  \n",
    "        self.transform = transform\n",
    "        data_path = os.path.join(data_path, 'train' if train else 'test')\n",
    "        image_classes = [os.path.split(d)[1] for d in glob.glob(data_path +'/*') if os.path.isdir(d)]\n",
    "        image_classes.sort()\n",
    "        self.name_to_label = {c: id for id, c in enumerate(image_classes)}\n",
    "        self.image_paths = glob.glob(data_path + '/*/*.npy')\n",
    "    \n",
    "    def __len__(self):\n",
    "        return len(self.image_paths) #len(self.data)\n",
    "    \n",
    "    def __getitem__(self,idx):        \n",
    "        'Generates one sample of data'\n",
    "        image_path = self.image_paths[idx]\n",
    "        \n",
    "        image = np.load(image_path)\n",
    "        c = os.path.split(os.path.split(image_path)[0])[1]\n",
    "        y = self.name_to_label[c]\n",
    "        X = self.transform(image)\n",
    "        return X,y"
   ]
  },
  {
   "cell_type": "code",
   "execution_count": 5,
   "metadata": {},
   "outputs": [],
   "source": [
    "height = 128\n",
    "width = 64\n",
    "train_transform = transforms.Compose([transforms.Resize((height, width)), \n",
    "                                    transforms.ToTensor()])\n",
    "test_transform = transforms.Compose([transforms.Resize((height, width)), \n",
    "                                    transforms.ToTensor()])"
   ]
  },
  {
   "cell_type": "code",
   "execution_count": 6,
   "metadata": {},
   "outputs": [],
   "source": [
    "# data=np.load(\"data_path.npy\")\n",
    "# labels=np.load(\"labels.npy\")"
   ]
  },
  {
   "cell_type": "code",
   "execution_count": 7,
   "metadata": {},
   "outputs": [
    {
     "ename": "IndexError",
     "evalue": "index 65982 is out of bounds for axis 0 with size 65923",
     "output_type": "error",
     "traceback": [
      "\u001b[0;31m---------------------------------------------------------------------------\u001b[0m",
      "\u001b[0;31mIndexError\u001b[0m                                Traceback (most recent call last)",
      "\u001b[0;32m<ipython-input-7-9c9eefe94c0c>\u001b[0m in \u001b[0;36m<module>\u001b[0;34m\u001b[0m\n\u001b[1;32m      4\u001b[0m \u001b[0mdata_train\u001b[0m \u001b[0;34m=\u001b[0m \u001b[0mdata\u001b[0m\u001b[0;34m[\u001b[0m\u001b[0msplit\u001b[0m\u001b[0;34m[\u001b[0m\u001b[0;36m0\u001b[0m\u001b[0;34m]\u001b[0m\u001b[0;34m.\u001b[0m\u001b[0mindices\u001b[0m\u001b[0;34m]\u001b[0m\u001b[0;34m\u001b[0m\u001b[0m\n\u001b[1;32m      5\u001b[0m \u001b[0mdata_test\u001b[0m \u001b[0;34m=\u001b[0m \u001b[0mdata\u001b[0m\u001b[0;34m[\u001b[0m\u001b[0msplit\u001b[0m\u001b[0;34m[\u001b[0m\u001b[0;36m1\u001b[0m\u001b[0;34m]\u001b[0m\u001b[0;34m.\u001b[0m\u001b[0mindices\u001b[0m\u001b[0;34m]\u001b[0m\u001b[0;34m\u001b[0m\u001b[0m\n\u001b[0;32m----> 6\u001b[0;31m \u001b[0mlabels_train\u001b[0m \u001b[0;34m=\u001b[0m \u001b[0mlabels\u001b[0m\u001b[0;34m[\u001b[0m\u001b[0msplit\u001b[0m\u001b[0;34m[\u001b[0m\u001b[0;36m0\u001b[0m\u001b[0;34m]\u001b[0m\u001b[0;34m.\u001b[0m\u001b[0mindices\u001b[0m\u001b[0;34m]\u001b[0m\u001b[0;34m\u001b[0m\u001b[0m\n\u001b[0m\u001b[1;32m      7\u001b[0m \u001b[0mlabels_test\u001b[0m \u001b[0;34m=\u001b[0m \u001b[0mlabels\u001b[0m\u001b[0;34m[\u001b[0m\u001b[0msplit\u001b[0m\u001b[0;34m[\u001b[0m\u001b[0;36m1\u001b[0m\u001b[0;34m]\u001b[0m\u001b[0;34m.\u001b[0m\u001b[0mindices\u001b[0m\u001b[0;34m]\u001b[0m\u001b[0;34m\u001b[0m\u001b[0m\n\u001b[1;32m      8\u001b[0m \u001b[0;34m\u001b[0m\u001b[0m\n",
      "\u001b[0;31mIndexError\u001b[0m: index 65982 is out of bounds for axis 0 with size 65923"
     ]
    }
   ],
   "source": [
    "# torch.manual_seed(0)\n",
    "# split = random_split(data,(50000,len(data)-50000))\n",
    "\n",
    "# data_train = data[split[0].indices]\n",
    "# data_test = data[split[1].indices]\n",
    "# labels_train = labels[split[0].indices]\n",
    "# labels_test = labels[split[1].indices]\n",
    "\n",
    "\n",
    "train_set = dataset(train=True,transform=train_transform)\n",
    "test_set = dataset(train=False,transform=test_transform)\n",
    "\n",
    "batch_size = 512\n",
    "weights = []\n",
    "for label in labels_train:\n",
    "    if label == 0:\n",
    "        weights.append(0.2/len(labels_train[labels_train==0]))\n",
    "    elif label == 1:\n",
    "        weights.append(0.2/len(labels_train[labels_train==1]))\n",
    "    elif label == 2:\n",
    "        weights.append(0.2/len(labels_train[labels_train==2]))\n",
    "    elif label == 3:\n",
    "        weights.append(0.2/len(labels_train[labels_train==3]))\n",
    "    else:\n",
    "        weights.append(0.2/len(labels_train[labels_train==4]))\n",
    "weights = torch.FloatTensor(weights)\n",
    "sampler = WeightedRandomSampler(weights=weights,num_samples=len(train_set),replacement=True)\n",
    "\n",
    "train_loader = DataLoader(train_set, batch_size=batch_size,sampler=sampler,num_workers=0)\n",
    "test_loader = DataLoader(test_set, batch_size=batch_size, shuffle=False,num_workers=0)"
   ]
  },
  {
   "cell_type": "code",
   "execution_count": null,
   "metadata": {},
   "outputs": [],
   "source": [
    "for minibatch_no, (data, target) in enumerate(train_loader):\n",
    "    print(minibatch_no)\n",
    "    print(len(target[target==0])/len(target))\n",
    "    print(len(target[target==1])/len(target))\n",
    "    print(len(target[target==2])/len(target))\n",
    "    print(len(target[target==3])/len(target))\n",
    "    print(len(target[target==4])/len(target))"
   ]
  },
  {
   "cell_type": "code",
   "execution_count": null,
   "metadata": {},
   "outputs": [],
   "source": [
    "class ratio_batching(Sampler):\n",
    "    \n",
    "    def __init__(self,data,target,num_samples):\n",
    "        p = torch.randperm(data.shape[0])\n",
    "        self.data = data[p]\n",
    "        self.target = target[p]\n",
    "        self.num_samples = num_samples\n",
    "        \n",
    "    \n",
    "    def __iter__(self):\n",
    "        \n",
    "        \n",
    "        return \n",
    "        \n",
    "    def __len__(self):\n",
    "        return self.num_samples\n",
    "    \n",
    "def dataloader(data,target,batch_size):\n",
    "    #shuffle data\n",
    "    p = np.random.permutation(data.shape[0])\n",
    "    data = data[p]\n",
    "    target = target[p]\n",
    "    \n",
    "    #\n",
    "    n_mini_batches = np.ceil(len(data)/batch_size)\n",
    "    mini_batches_idx = np.empty((n_mini_batches,batch_size))\n",
    "    n_each = batch_size//5\n",
    "    "
   ]
  }
 ],
 "metadata": {
  "kernelspec": {
   "display_name": "Python 3",
   "language": "python",
   "name": "python3"
  },
  "language_info": {
   "codemirror_mode": {
    "name": "ipython",
    "version": 3
   },
   "file_extension": ".py",
   "mimetype": "text/x-python",
   "name": "python",
   "nbconvert_exporter": "python",
   "pygments_lexer": "ipython3",
   "version": "3.6.2"
  }
 },
 "nbformat": 4,
 "nbformat_minor": 4
}
