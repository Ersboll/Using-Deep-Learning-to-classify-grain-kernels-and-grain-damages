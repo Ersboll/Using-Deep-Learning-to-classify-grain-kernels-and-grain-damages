{
 "cells": [
  {
   "cell_type": "code",
   "execution_count": 4,
   "metadata": {},
   "outputs": [],
   "source": [
    "import numpy as np\n",
    "import matplotlib.pyplot as plt\n",
    "import torch\n",
    "from torch.utils.data import DataLoader\n",
    "from torch.utils.data import Dataset\n",
    "from torch.utils.data import random_split"
   ]
  },
  {
   "cell_type": "markdown",
   "metadata": {},
   "source": [
    "Class 0: Oat\n",
    "\n",
    "Class 1: Broken\n",
    "\n",
    "Class 2: Wheat\n",
    "\n",
    "Class 3: Barley\n",
    "\n",
    "Class 4: Rye"
   ]
  },
  {
   "cell_type": "code",
   "execution_count": 5,
   "metadata": {},
   "outputs": [],
   "source": [
    "class dataset (Dataset):\n",
    "    def __init__(self,data,target):\n",
    "        self.data = data\n",
    "        self.target = target\n",
    "    \n",
    "    def __len__(self):\n",
    "        return len(self.data)\n",
    "    \n",
    "    def __getitem__(self,idx):\n",
    "        if torch.is_tensor(idx):\n",
    "            idx = idx.tolist()\n",
    "        temp = np.zeros((len(idx),7,320,100))\n",
    "        to_be_loaded = self.data[idx]\n",
    "        for item,i in zip(to_be_loaded,range(len(idx))):\n",
    "            temp[i,:,:,:] = np.load(item)\n",
    "        \n",
    "        X = temp\n",
    "        y = self.target[idx]\n",
    "        \n",
    "        return X,y"
   ]
  },
  {
   "cell_type": "code",
   "execution_count": 6,
   "metadata": {},
   "outputs": [],
   "source": [
    "data=np.load(\"data_preprocessed_path.npy\")\n",
    "labels=np.load(\"labels.npy\")\n",
    "\n",
    "torch.manual_seed(0)\n",
    "split = random_split(data,(50000,len(data)-50000))\n",
    "\n",
    "data_train = data[split[0].indices]\n",
    "data_test = data[split[1].indices]\n",
    "labels_train = labels[split[0].indices]\n",
    "labels_test = labels[split[1].indices]\n",
    "\n",
    "train_set = dataset(data_train,labels_train)\n",
    "test_set = dataset(data_test,labels_test)\n",
    "\n",
    "train_loader = DataLoader(train_set, batch_size=512, shuffle=True,num_workers=0)\n",
    "test_loader = DataLoader(test_set, batch_size=512, shuffle=False,num_workers=0)"
   ]
  },
  {
   "cell_type": "code",
   "execution_count": null,
   "metadata": {},
   "outputs": [],
   "source": []
  }
 ],
 "metadata": {
  "kernelspec": {
   "display_name": "Python 3",
   "language": "python",
   "name": "python3"
  },
  "language_info": {
   "codemirror_mode": {
    "name": "ipython",
    "version": 3
   },
   "file_extension": ".py",
   "mimetype": "text/x-python",
   "name": "python",
   "nbconvert_exporter": "python",
   "pygments_lexer": "ipython3",
   "version": "3.6.2"
  }
 },
 "nbformat": 4,
 "nbformat_minor": 4
}
