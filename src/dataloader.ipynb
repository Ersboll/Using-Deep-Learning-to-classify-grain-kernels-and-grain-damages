{
 "cells": [
  {
   "cell_type": "code",
   "execution_count": 64,
   "metadata": {},
   "outputs": [],
   "source": [
    "import numpy as np\n",
    "import cv2\n",
    "import os\n",
    "import matplotlib.pyplot as plt\n",
    "import torch\n",
    "import torch.nn as nn\n",
    "import torch.optim as optim\n",
    "from torch.utils.data import DataLoader\n",
    "from torch.utils.data import Dataset"
   ]
  },
  {
   "cell_type": "code",
   "execution_count": 53,
   "metadata": {},
   "outputs": [],
   "source": [
    "def preprocess(im,height,width):\n",
    "    #if the image is already bigger in either height or width the image is cut to the correct size (this is a temperary solution)\n",
    "    if im.shape[0] > height:\n",
    "        im = im[:height,:,:]\n",
    "    if im.shape[1] > width:\n",
    "        im = im[:,:width,:]\n",
    "    #image changed to float in the range 0-1\n",
    "    im = im[:,:,:7]/255\n",
    "    #create a simple mask, and make everything else 0\n",
    "    mask = im[:,:,4].copy()\n",
    "    mask[im[:,:,4] < 0.175] = 0\n",
    "    mask[im[:,:,4] >= 0.175] = 1\n",
    "    im[mask==0] = 0\n",
    "    \n",
    "    #Pad the image to the correct size\n",
    "    height_diff = height-im.shape[0]\n",
    "    width_diff = width-im.shape[1]\n",
    "    if height_diff%2 != 0:\n",
    "        top = int(height_diff/2)\n",
    "        bottom = int(height_diff/2)+1\n",
    "    else:\n",
    "        top = int(height_diff/2)\n",
    "        bottom = top\n",
    "    if width_diff%2 != 0:\n",
    "        left = int(width_diff/2)\n",
    "        right = int(width_diff/2)+1\n",
    "    else:\n",
    "        left = int(width_diff/2)\n",
    "        right = left\n",
    "    im = cv2.copyMakeBorder(im,top,bottom,left,right,cv2.BORDER_CONSTANT,0)\n",
    "    return np.moveaxis(im,-1,0)"
   ]
  },
  {
   "cell_type": "code",
   "execution_count": 54,
   "metadata": {},
   "outputs": [],
   "source": [
    "# classes = os.listdir('../data')\n",
    "# files = []\n",
    "# for folder in classes:\n",
    "#     files.append(os.listdir('../data/'+folder))\n",
    "    \n",
    "# for i in range(len(files)):\n",
    "#     for j in range(len(files[i])):\n",
    "#         files[i][j] = '../data/'+classes[i]+'/'+files[i][j]\n",
    "\n",
    "# class_len = []\n",
    "# for i in range(len(files)):\n",
    "#     class_len.append(len(files[i]))\n",
    "# labels = np.zeros((66000,5))\n",
    "# for i in range(class_len[0]):\n",
    "#     labels[i,0] = 1\n",
    "# for i in range(class_len[0],sum(class_len[:2])):\n",
    "#     labels[i,1] = 1\n",
    "# for i in range(sum(class_len[:2]),sum(class_len[:3])):\n",
    "#     labels[i,2] = 1\n",
    "# for i in range(sum(class_len[:3]),sum(class_len[:4])):\n",
    "#     labels[i,3] = 1\n",
    "# for i in range(sum(class_len[:4]),sum(class_len[:5])):\n",
    "#     labels[i,4] = 1\n",
    "    \n",
    "# files = np.array([val for sublist in files for val in sublist])\n",
    "# np.save(\"data_path\",files)\n",
    "# np.save(\"labels\",labels)\n",
    "data=np.load(\"data_path.npy\")\n",
    "labels=np.load(\"labels.npy\")"
   ]
  },
  {
   "cell_type": "markdown",
   "metadata": {},
   "source": [
    "Class 0: Oat\n",
    "\n",
    "Class 1: Broken\n",
    "\n",
    "Class 2: Wheat\n",
    "\n",
    "Class 3: Barley\n",
    "\n",
    "Class 4: Rye"
   ]
  },
  {
   "cell_type": "code",
   "execution_count": 55,
   "metadata": {},
   "outputs": [],
   "source": [
    "class dataset (Dataset):\n",
    "    def __init__(self,data,target,height,width):\n",
    "        self.data = data\n",
    "        self.target = target\n",
    "        self.height = height\n",
    "        self.width = width\n",
    "    \n",
    "    def __len__(self):\n",
    "        return len(self.data)\n",
    "    \n",
    "    def __getitem__(self,idx):\n",
    "        if torch.is_tensor(idx):\n",
    "            idx = idx.tolist()\n",
    "        temp = np.zeros((len(idx),7,self.height,self.width))\n",
    "        to_be_loaded = self.data[idx]\n",
    "        for item,i in zip(to_be_loaded,range(len(idx))):\n",
    "            temp[i,:,:,:] = preprocess(np.load(item),self.height,self.width)\n",
    "        \n",
    "        X = temp\n",
    "        y = self.target[idx]\n",
    "        \n",
    "        return X,y"
   ]
  },
  {
   "cell_type": "code",
   "execution_count": null,
   "metadata": {},
   "outputs": [],
   "source": []
  }
 ],
 "metadata": {
  "kernelspec": {
   "display_name": "Python 3",
   "language": "python",
   "name": "python3"
  },
  "language_info": {
   "codemirror_mode": {
    "name": "ipython",
    "version": 3
   },
   "file_extension": ".py",
   "mimetype": "text/x-python",
   "name": "python",
   "nbconvert_exporter": "python",
   "pygments_lexer": "ipython3",
   "version": "3.6.2"
  }
 },
 "nbformat": 4,
 "nbformat_minor": 4
}
